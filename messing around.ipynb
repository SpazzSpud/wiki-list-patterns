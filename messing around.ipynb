{
 "cells": [
  {
   "cell_type": "code",
   "execution_count": 3,
   "metadata": {},
   "outputs": [
    {
     "name": "stdout",
     "output_type": "stream",
     "text": [
      "* [[April 1]] - [[April Fools' Day]]\n",
      "* [[April 1]] - Islamic Republic Day ([[Iran]])\n",
      "* [[April 2]] - International Children's Book Day\n",
      "* [[April 2]] - [[Thailand|Thai]] Heritage and [[wikt:conservation|Conservation]] Day\n",
      "* [[April 2]] - World [[Autism]] Awareness Day\n",
      "* [[April 2]] - Malvinas Day ([[Argentina]])\n",
      "* [[Easter]]-related events in Western [[Christianity]]:\n",
      "** Palm Sunday (between [[March 15]] and [[April 18]])\n",
      "** Maundy Thursday (between [[March 19]] and [[April 22]])\n",
      "** Good Friday (between [[March 20]] and [[April 23]])\n",
      "** [[Easter]] Sunday (between [[March 22]] and [[April 25]])\n",
      "** Easter Monday (between [[March 23]] and [[April 26]])\n",
      "* In Western [[Christianity]], there is a bigger likelihood of [[Easter]] falling in April than in [[March]].\n",
      "* The months around April ([[March]] and [[May]]) both start with an 'M' in the [[English language]], with an 'A' as the second letter.\n",
      "* In the [[English language]], April is the first of three months in-a-row, along with [[May]] and [[June]], that is also a [[female]] given name.\n",
      "* The astrological signs for April are [[Aries]] ([[March 21]] to [[April 20]]) and [[Taurus]] ([[April 21]] to [[May 20]]).\n",
      "* The [[sweet pea]] and [[Asteraceae|daisy]] are the traditional birth flowers for April.\n",
      "* Birthstone for April is the [[Diamond]].\n",
      "\n",
      "\n"
     ]
    }
   ],
   "source": [
    "line0 = open('simplewiki-20211120-lists-1k.tsv', encoding=\"utf8\").readlines()[0]\n",
    "line1 = open('simplewiki-20211120-lists-1k.tsv', encoding=\"utf8\").readlines()[1]\n",
    "line2 = open('simplewiki-20211120-lists-1k.tsv', encoding=\"utf8\").readlines()[3]\n",
    "\n",
    "\n",
    "def printList(list):\n",
    "    page, lines = list.split('\\t')\n",
    "    #for line in lines:\n",
    "    #    print(line)\n",
    "    lines = lines.split('\\\\n')\n",
    "    cnt = 0\n",
    "    for line in lines:\n",
    "        if cnt > 5:\n",
    "            break\n",
    "        cnt += 1\n",
    "        print(line)\n",
    "\n",
    "printList(line0)\n",
    "printList(line1)\n",
    "printList(line2)\n",
    "print(line2[-1], 'bing')"
   ]
  }
 ],
 "metadata": {
  "kernelspec": {
   "display_name": "Python 3",
   "language": "python",
   "name": "python3"
  },
  "language_info": {
   "codemirror_mode": {
    "name": "ipython",
    "version": 3
   },
   "file_extension": ".py",
   "mimetype": "text/x-python",
   "name": "python",
   "nbconvert_exporter": "python",
   "pygments_lexer": "ipython3",
   "version": "3.11.3"
  },
  "orig_nbformat": 4
 },
 "nbformat": 4,
 "nbformat_minor": 2
}
