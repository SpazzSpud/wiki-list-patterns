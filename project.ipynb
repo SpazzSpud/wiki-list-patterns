{
 "cells": [
  {
   "cell_type": "code",
   "execution_count": 6,
   "metadata": {},
   "outputs": [
    {
     "name": "stdout",
     "output_type": "stream",
     "text": [
      "Collecting templater3\n",
      "  Downloading templater3-0.5.0.tar.gz (19 kB)\n",
      "  Preparing metadata (setup.py): started\n",
      "  Preparing metadata (setup.py): finished with status 'done'\n",
      "Building wheels for collected packages: templater3\n",
      "  Building wheel for templater3 (setup.py): started\n",
      "  Building wheel for templater3 (setup.py): finished with status 'done'\n",
      "  Created wheel for templater3: filename=templater3-0.5.0-cp38-cp38-macosx_10_9_x86_64.whl size=16825 sha256=7388a729d3d196c92c20e7c60b46bae98d130b3e104517e400ab455eec9e0ab6\n",
      "  Stored in directory: /Users/tomnorton/Library/Caches/pip/wheels/25/f4/a3/512b5cc291190dba07a081dae7a526d1392942feacfb1c72c0\n",
      "Successfully built templater3\n",
      "Installing collected packages: templater3\n",
      "Successfully installed templater3-0.5.0\n"
     ]
    }
   ],
   "source": [
    "%%bash\n",
    "pip install templater3"
   ]
  },
  {
   "cell_type": "code",
   "execution_count": 7,
   "metadata": {},
   "outputs": [
    {
     "name": "stdout",
     "output_type": "stream",
     "text": [
      "Collecting wikimapper\n",
      "  Downloading wikimapper-0.1.17.tar.gz (18 kB)\n",
      "  Preparing metadata (setup.py): started\n",
      "  Preparing metadata (setup.py): finished with status 'done'\n",
      "Building wheels for collected packages: wikimapper\n",
      "  Building wheel for wikimapper (setup.py): started\n",
      "  Building wheel for wikimapper (setup.py): finished with status 'done'\n",
      "  Created wheel for wikimapper: filename=wikimapper-0.1.17-py3-none-any.whl size=15556 sha256=e74a51aae1966d534e73a7c1a6f9a559705e0f9f64b57e96a4b4a2b5ba5de5cb\n",
      "  Stored in directory: /Users/tomnorton/Library/Caches/pip/wheels/15/24/ec/c7cc67659d4e700b253e3a3989a034502ecd6ec6166699043e\n",
      "Successfully built wikimapper\n",
      "Installing collected packages: wikimapper\n",
      "Successfully installed wikimapper-0.1.17\n"
     ]
    }
   ],
   "source": [
    "%%bash\n",
    "pip install wikimapper"
   ]
  },
  {
   "cell_type": "code",
   "execution_count": 16,
   "metadata": {},
   "outputs": [
    {
     "name": "stdout",
     "output_type": "stream",
     "text": [
      "Collecting pandas\n",
      "  Downloading pandas-1.5.3-cp38-cp38-macosx_10_9_x86_64.whl (11.9 MB)\n",
      "     ━━━━━━━━━━━━━━━━━━━━━━━━━━━━━━━━━━━━━━━━ 11.9/11.9 MB 15.1 MB/s eta 0:00:00\n",
      "Collecting numpy>=1.20.3\n",
      "  Downloading numpy-1.24.2-cp38-cp38-macosx_10_9_x86_64.whl (19.8 MB)\n",
      "     ━━━━━━━━━━━━━━━━━━━━━━━━━━━━━━━━━━━━━━━━ 19.8/19.8 MB 10.1 MB/s eta 0:00:00\n",
      "Requirement already satisfied: python-dateutil>=2.8.1 in /Users/tomnorton/.local/lib/python3.8/site-packages (from pandas) (2.8.2)\n",
      "Collecting pytz>=2020.1\n",
      "  Downloading pytz-2022.7.1-py2.py3-none-any.whl (499 kB)\n",
      "     ━━━━━━━━━━━━━━━━━━━━━━━━━━━━━━━━━━━━━━ 499.4/499.4 kB 15.5 MB/s eta 0:00:00\n",
      "Requirement already satisfied: six>=1.5 in /Users/tomnorton/.local/lib/python3.8/site-packages (from python-dateutil>=2.8.1->pandas) (1.16.0)\n",
      "Installing collected packages: pytz, numpy, pandas\n",
      "Successfully installed numpy-1.24.2 pandas-1.5.3 pytz-2022.7.1\n"
     ]
    }
   ],
   "source": [
    "%%bash\n",
    "pip install pandas"
   ]
  },
  {
   "cell_type": "code",
   "execution_count": 17,
   "metadata": {},
   "outputs": [],
   "source": [
    "from wikimapper import WikiMapper\n",
    "import re\n",
    "from templater3 import Templater\n",
    "import pandas as pd"
   ]
  },
  {
   "cell_type": "code",
   "execution_count": 11,
   "metadata": {},
   "outputs": [
    {
     "name": "stdout",
     "output_type": "stream",
     "text": [
      "Template created: [None, '<b> ', None, ' and ', None, ' </b>', None]\n"
     ]
    }
   ],
   "source": [
    "test_input = ['<b> spam and eggs </b>', '<b> ham and spam </b>', '<b> white and black </b>']\n",
    "test_template = Templater()\n",
    "\n",
    "for document in test_input:\n",
    "    test_template.learn(document)\n",
    "\n",
    "print('Template created:', test_template._template)\n"
   ]
  },
  {
   "cell_type": "code",
   "execution_count": 31,
   "metadata": {},
   "outputs": [],
   "source": [
    "data = open('simplewiki-20211120-lists-1k.tsv').readlines()"
   ]
  },
  {
   "cell_type": "code",
   "execution_count": 39,
   "metadata": {},
   "outputs": [],
   "source": [
    "subj, li = data[0].split('\\t')\n",
    "items = li.split('\\\\n')\n",
    "print(items)"
   ]
  },
  {
   "cell_type": "code",
   "execution_count": 46,
   "metadata": {},
   "outputs": [],
   "source": [
    "def createTemplate(line):\n",
    "    subj, li = line.split('\\t')\n",
    "    items = li.split('\\\\n')\n",
    "    new_template = Templater()\n",
    "    for item in items:\n",
    "        new_template.learn(item)\n",
    "    print('Template created:', new_template._template)"
   ]
  },
  {
   "cell_type": "code",
   "execution_count": null,
   "metadata": {},
   "outputs": [
    {
     "ename": "",
     "evalue": "",
     "output_type": "error",
     "traceback": [
      "\u001b[1;31mThe Kernel crashed while executing code in the the current cell or a previous cell. Please review the code in the cell(s) to identify a possible cause of the failure. Click <a href='https://aka.ms/vscodeJupyterKernelCrash'>here</a> for more info. View Jupyter <a href='command:jupyter.viewOutput'>log</a> for further details."
     ]
    },
    {
     "ename": "",
     "evalue": "",
     "output_type": "error",
     "traceback": [
      "\u001b[1;31mCanceled future for execute_request message before replies were done"
     ]
    }
   ],
   "source": [
    "createTemplate(data[5])"
   ]
  }
 ],
 "metadata": {
  "kernelspec": {
   "display_name": "Python 3",
   "language": "python",
   "name": "python3"
  },
  "language_info": {
   "codemirror_mode": {
    "name": "ipython",
    "version": 3
   },
   "file_extension": ".py",
   "mimetype": "text/x-python",
   "name": "python",
   "nbconvert_exporter": "python",
   "pygments_lexer": "ipython3",
   "version": "3.8.10"
  },
  "orig_nbformat": 4,
  "vscode": {
   "interpreter": {
    "hash": "b94f1003a57f9632054474fd35de766e2f366405b07265ec7501d43413a7170c"
   }
  }
 },
 "nbformat": 4,
 "nbformat_minor": 2
}
