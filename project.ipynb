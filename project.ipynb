{
 "cells": [
  {
   "cell_type": "code",
   "execution_count": 31,
   "metadata": {},
   "outputs": [
    {
     "name": "stdout",
     "output_type": "stream",
     "text": [
      "Requirement already satisfied: templater3 in /Users/tomnorton/opt/anaconda3/envs/new_env/lib/python3.8/site-packages (0.5.0)\n"
     ]
    }
   ],
   "source": [
    "%%bash\n",
    "pip install templater3"
   ]
  },
  {
   "cell_type": "code",
   "execution_count": 32,
   "metadata": {},
   "outputs": [
    {
     "name": "stdout",
     "output_type": "stream",
     "text": [
      "Requirement already satisfied: wikimapper in /Users/tomnorton/opt/anaconda3/envs/new_env/lib/python3.8/site-packages (0.1.17)\n"
     ]
    }
   ],
   "source": [
    "%%bash\n",
    "pip install wikimapper"
   ]
  },
  {
   "cell_type": "code",
   "execution_count": 33,
   "metadata": {},
   "outputs": [
    {
     "name": "stdout",
     "output_type": "stream",
     "text": [
      "Requirement already satisfied: pandas in /Users/tomnorton/opt/anaconda3/envs/new_env/lib/python3.8/site-packages (1.5.3)\n",
      "Requirement already satisfied: python-dateutil>=2.8.1 in /Users/tomnorton/.local/lib/python3.8/site-packages (from pandas) (2.8.2)\n",
      "Requirement already satisfied: pytz>=2020.1 in /Users/tomnorton/opt/anaconda3/envs/new_env/lib/python3.8/site-packages (from pandas) (2022.7.1)\n",
      "Requirement already satisfied: numpy>=1.20.3 in /Users/tomnorton/opt/anaconda3/envs/new_env/lib/python3.8/site-packages (from pandas) (1.24.2)\n",
      "Requirement already satisfied: six>=1.5 in /Users/tomnorton/.local/lib/python3.8/site-packages (from python-dateutil>=2.8.1->pandas) (1.16.0)\n"
     ]
    }
   ],
   "source": [
    "%%bash\n",
    "pip install pandas"
   ]
  },
  {
   "cell_type": "code",
   "execution_count": 34,
   "metadata": {},
   "outputs": [
    {
     "name": "stdout",
     "output_type": "stream",
     "text": [
      "Requirement already satisfied: titlecase in /Users/tomnorton/opt/anaconda3/envs/new_env/lib/python3.8/site-packages (2.4)\n"
     ]
    }
   ],
   "source": [
    "%%bash\n",
    "pip install titlecase"
   ]
  },
  {
   "cell_type": "code",
   "execution_count": 35,
   "metadata": {},
   "outputs": [],
   "source": [
    "from wikimapper import WikiMapper\n",
    "import re\n",
    "from templater3 import Templater\n",
    "import pandas as pd\n",
    "from titlecase import titlecase"
   ]
  },
  {
   "cell_type": "code",
   "execution_count": 36,
   "metadata": {},
   "outputs": [
    {
     "name": "stdout",
     "output_type": "stream",
     "text": [
      "Template created: [None, '<b> ', None, ' and ', None, ' </b>', None]\n"
     ]
    }
   ],
   "source": [
    "test_input = ['<b> spam and eggs </b>', '<b> ham and spam </b>', '<b> white and black </b>']\n",
    "test_template = Templater()\n",
    "\n",
    "for document in test_input:\n",
    "    test_template.learn(document)\n",
    "\n",
    "print('Template created:', test_template._template)\n"
   ]
  },
  {
   "cell_type": "code",
   "execution_count": 37,
   "metadata": {},
   "outputs": [],
   "source": [
    "data = open('simplewiki-20211120-lists-1k.tsv').readlines()"
   ]
  },
  {
   "cell_type": "code",
   "execution_count": 38,
   "metadata": {},
   "outputs": [
    {
     "name": "stdout",
     "output_type": "stream",
     "text": [
      "[\"* [[April 1]] - [[April Fools' Day]]\", '* [[April 1]] - Islamic Republic Day ([[Iran]])', \"* [[April 2]] - International Children's Book Day\", '* [[April 2]] - [[Thailand|Thai]] Heritage and [[wikt:conservation|Conservation]] Day', '* [[April 2]] - World [[Autism]] Awareness Day', '* [[April 2]] - Malvinas Day ([[Argentina]])', '* [[April 4]] - Independence Day ([[Senegal]])', '* [[April 4]] - International Day for Landmine Awareness and Assistance', '* [[April 4]] - Peace Day ([[Angola]])', '* [[April 5]] - End of [[Tax]] Year ([[United Kingdom]])', '* [[April 6]] - Tartan Day ([[Canada]] and [[United States]])', '* [[April 6]] - Chakri Day ([[Thailand]])', '* [[April 7]] - Day of Maternity and Beauty ([[Armenia]])', '* [[April 7]] - Genocide Memorial Day ([[Rwanda]])', '* [[April 7]] - World [[Health]] Day', \"* [[April 7]] - Women's Day ([[Mozambique]])\", \"* [[April 8]] - [[Buddha]]'s Birthday ([[Buddhism]])\", \"* [[April 9]] - Martyrs' Day ([[Tunisia]])\", '* [[April 9]] - Day of National Unity ([[Georgia (country)|Georgia]])', '* [[April 9]] - Day of the [[Finnish language]]', \"* [[April 12]] - [[Cosmonaut]]s' Day ([[Russia]]), marking the day of [[Yuri Gagarin]]'s space flight\", '* [[April 13]] - Songkan ([[Laos]]), local New Year celebration', '* [[April 13]] - [[Cambodia]]n New Year', \"* [[April 13]] - [[Thomas Jefferson]]'s [[Birthday]] ([[United States]])\", '* [[April 14]] - [[Southeast Asia]]n [[New Year]] festivals, including [[Songkran]]', '* [[April 14]] - [[Georgian language]] Day', '* [[April 14]] - Youth Day ([[Angola]])', '* [[April 14]] - Ambedkar Tayanti ([[India]])', '* [[April 14]] - Pan-American Day', '* [[April 15]] - [[Tax]] Day ([[United States]])', \"* [[April 15]] - [[Kim Il-Sung]]'s [[Birthday]] ([[North Korea]])\", '* [[April 15]] - [[Father Damien]] Day ([[Hawaii]])', '* [[April 15]] - [[Jackie Robinson]] Day ([[Major League Baseball]])', '* [[April 16]] - [[Birthday]] of Queen [[Margrethe II of Denmark]]', '* [[April 16]] - Emancipation Day ([[Washington, DC]])', '* [[April 16]] - World [[Voice]] Day', '* [[April 16]] - [[Selena]] Day ([[Texas]])', '* [[April 17]] - National Day of [[Syria]]', '* [[April 17]] - Flag Day ([[American Samoa]])', \"* [[April 17]] - Women's Day ([[Gabon]])\", '* [[April 17]] - World [[Hemophilia]] Day', '* [[April 18]] - Independence Day ([[Zimbabwe]])', '* [[April 18]] - Invention Day ([[Japan]])', '* [[April 18]] - International Day of [[Monument]]s and Sites', '* [[April 19]] - [[Bicycle]] Day', '* [[April 19]] - Dutch-American Friendship Day', '* [[April 19]] - [[Birthday]] of King [[Mswati III]] of [[Swaziland]]', \"* [[April 19]] - Patriots' Day ([[Massachusetts]], [[Maine]], [[Wisconsin]])\", '* [[April 20]] - 4/20 in [[Cannabis]] [[Culture]]', '* [[April 21]] - [[John Muir]] Day ([[California]])', '* [[April 21]] - San Jacinto Day ([[Texas]])', '* [[April 21]] - Kartini Day ([[Indonesia]])', '* [[April 21]] - National [[Tree]] Planting Day ([[Kenya]])', \"* [[April 21]] - First Day of [[Ridran]] ([[Baha'i]] faith)\", '* [[April 21]] - Grounation Day ([[Rastafari movement]])', '* [[April 22]] - [[Earth Day]]', '* [[April 22]] - Discovery Day ([[Brazil]])', \"* [[April 23]] - [[Saint George]]'s Day, celebrating the patron saint of several countries, regions and cities (including [[England]] and [[Catalonia]])\", '* [[April 23]] - World [[Book]] Day', \"* [[April 23]] - National Sovereignty and [[Child]]ren's Day ([[Turkey]])\", '* [[April 24]] - Democracy Day ([[Nepal]])', '* [[April 24]] - Genocide Day ([[Armenia]])', '* [[April 24]] - [[Republic]] Day (the [[Gambia]])', '* [[April 25]] - [[Australia]] and [[New Zealand]] celebrate [[ANZAC Day]]. [http://www.awm.gov.au/dawn/spirit/meaning.asp ANZAC] {{Webarchive|url=https://web.archive.org/web/20060615053606/http://www.awm.gov.au/dawn/spirit/meaning.asp |date=2006-06-15 }} means Australian and New Zealand Army Corps, and began in 1915.', '* [[April 25]] - World [[DNA]] Day', '* [[April 25]] - World [[Malaria]] Day', '* [[April 25]] - Flag Day ([[Swaziland]], [[Faroe Islands]])', '* [[April 25]] - Freedom Day ([[Portugal]])', '* [[April 25]] - Liberation Day ([[Italy]])', '* [[April 25]] - Army Day ([[North Korea]])', '* [[April 26]] - Union Day ([[Tanzania]])', '* [[April 26]] - Confederate Memorial Day ([[Texas]], [[Florida]])', '* [[April 27]] - Independence Day ([[Sierra Leone]] and [[Togo]])', '* [[April 27]] - Freedom Day ([[South Africa]])', '* [[April 27]] - World [[Tapir]] Day', \"* [[April 27]] - King's Day ([[Netherlands]]) from [[2014]], birthday of [[Willem-Alexander of the Netherlands]]\", '* [[April 28]] - Workers Memorial Day', '* [[April 28]] - National Day ([[Sardinia]])', '* [[April 28]] - National Heroes Day ([[Barbados]])', '* [[April 29]] - Showa Day ([[Japan]]), birthday of Emperor [[Hirohito]], who died in [[1989]]', '* [[April 29]] - International [[Dance]] Day', \"* [[April 30]] - Former Queen's Day Holiday in the [[Netherlands]] (changed to King's Day, [[April 27]] in [[2014]]), was the birthday of former Queen [[Juliana of the Netherlands]]\", '* [[April 30]] - Flag Day in [[Sweden]] (birthday of King [[Carl XVI Gustaf of Sweden]])', '* [[April 30]] - International [[Jazz]] Day', '* [[April 30]] - [[Walpurgis Night]] (Central and Northern [[Europe]])\\n']\n"
     ]
    }
   ],
   "source": [
    "subj, li = data[0].split('\\t')\n",
    "items = li.split('\\\\n')\n",
    "print(items)"
   ]
  },
  {
   "cell_type": "code",
   "execution_count": 39,
   "metadata": {},
   "outputs": [],
   "source": [
    "def createTemplate(line):\n",
    "    subj, li = line.split('\\t')\n",
    "    items = li.split('\\\\n')\n",
    "    new_template = Templater()\n",
    "    for item in items:\n",
    "        new_template.learn(item)\n",
    "    print('Template created:', new_template._template)"
   ]
  },
  {
   "cell_type": "code",
   "execution_count": 40,
   "metadata": {},
   "outputs": [
    {
     "name": "stdout",
     "output_type": "stream",
     "text": [
      "Astronomy\t* [[White dwarf]] stars\\n* [[Neutron star]]s\\n* [[Black hole]]s\n",
      "\n",
      "Template created: [None, '* [[', None, ' ', None, 's', None]\n"
     ]
    }
   ],
   "source": [
    "# 22 doesn't work, crashes templater\n",
    "x = 39\n",
    "print(data[x])\n",
    "createTemplate(data[x])"
   ]
  },
  {
   "cell_type": "code",
   "execution_count": 41,
   "metadata": {},
   "outputs": [
    {
     "ename": "IndentationError",
     "evalue": "unexpected indent (2115575930.py, line 26)",
     "output_type": "error",
     "traceback": [
      "\u001b[0;36m  Cell \u001b[0;32mIn[41], line 26\u001b[0;36m\u001b[0m\n\u001b[0;31m    id = mapper.title_to_id(capitalized)\u001b[0m\n\u001b[0m    ^\u001b[0m\n\u001b[0;31mIndentationError\u001b[0m\u001b[0;31m:\u001b[0m unexpected indent\n"
     ]
    }
   ],
   "source": [
    "mapper = WikiMapper(\"index_enwiki-latest.db\")\n",
    "\n",
    "def preprocess_entity(entity: str) -> str:          # thank you antoni\n",
    "   if entity.find(\"|\"):\n",
    "      entity = entity.split(\"|\")\n",
    "      entity = entity[0]\n",
    "\n",
    "   title_case_entity = titlecase(entity).replace(' ', '_')\n",
    "\n",
    "   joined = entity.replace(' ', '_')\n",
    "\n",
    "   capitalized_entity = entity.replace(' ', '_').capitalize()\n",
    "   \n",
    "   return title_case_entity, capitalized_entity, joined\n",
    "\n",
    "def wikiMapper(line):                               # thank you antoni\n",
    "    entities_counter, counter = 0, 0\n",
    "    subj, li = line.split('\\t')\n",
    "    items = li.split('\\\\n')\n",
    "    for item in items:\n",
    "        entities = re.findall(r'\\[\\[(.+?)\\]\\]',item)\n",
    "    for entity in entities:\n",
    "            entities_counter+=1\n",
    "            title_case, capitalized, joined = preprocess_entity(entity)\n",
    "            id = mapper.title_to_id(title_case)\n",
    "            if id is None:\n",
    "                id = mapper.title_to_id(capitalized)\n",
    "                if id is None:\n",
    "                    id = mapper.title_to_id(joined)\n",
    "                    if id is None:\n",
    "                        counter+=1\n",
    "\n",
    "wikiMapper(data[0])"
   ]
  }
 ],
 "metadata": {
  "kernelspec": {
   "display_name": "Python 3",
   "language": "python",
   "name": "python3"
  },
  "language_info": {
   "codemirror_mode": {
    "name": "ipython",
    "version": 3
   },
   "file_extension": ".py",
   "mimetype": "text/x-python",
   "name": "python",
   "nbconvert_exporter": "python",
   "pygments_lexer": "ipython3",
   "version": "3.8.10"
  },
  "orig_nbformat": 4,
  "vscode": {
   "interpreter": {
    "hash": "b94f1003a57f9632054474fd35de766e2f366405b07265ec7501d43413a7170c"
   }
  }
 },
 "nbformat": 4,
 "nbformat_minor": 2
}
