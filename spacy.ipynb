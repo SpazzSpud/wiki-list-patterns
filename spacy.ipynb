{
 "cells": [
  {
   "cell_type": "code",
   "execution_count": 1,
   "id": "d7a8f6f3-f20f-4c18-81da-a9d5e434f632",
   "metadata": {
    "tags": []
   },
   "outputs": [
    {
     "name": "stdout",
     "output_type": "stream",
     "text": [
      "Triples in 'John likes pizza.': [('John', 'likes', 'pizza')]\n",
      "Triples in 'Mary plays soccer.': [('Mary', 'plays', 'soccer')]\n",
      "Triples in 'Tom reads books.': [('Tom', 'reads', 'books')]\n"
     ]
    }
   ],
   "source": [
    "import spacy\n",
    "import random\n",
    "\n",
    "# Load English language model\n",
    "nlp = spacy.load(\"en_core_web_sm\")\n",
    "\n",
    "# Example list\n",
    "my_list = [\"John likes pizza.\", \"Mary plays soccer.\", \"Tom reads books.\"]\n",
    "\n",
    "# Process each item in the list\n",
    "for item in my_list:\n",
    "    doc = nlp(item)\n",
    "\n",
    "    # Extract subject-verb-object triples\n",
    "    triples = []\n",
    "    for token in doc:\n",
    "        if token.dep_ == \"nsubj\" and token.head.pos_ == \"VERB\":\n",
    "            subject = token.text\n",
    "            verb = token.head.text\n",
    "            object_ = [child.text for child in token.head.children if child.dep_ == \"dobj\"]\n",
    "            if object_:\n",
    "                triples.append((subject, verb, object_[0]))\n",
    "\n",
    "    # Print extracted triples\n",
    "    print(f\"Triples in '{item}': {triples}\")"
   ]
  },
  {
   "cell_type": "code",
   "execution_count": 2,
   "id": "7dfcb68a-84d0-43fc-845a-7ecfbd04e6a4",
   "metadata": {},
   "outputs": [],
   "source": [
    "f = open('simplewiki-20211120-lists-1k.tsv').readlines()"
   ]
  },
  {
   "cell_type": "code",
   "execution_count": 3,
   "id": "110933cb-456c-4ed0-8c47-f1308ec7b334",
   "metadata": {
    "tags": []
   },
   "outputs": [],
   "source": [
    "pages = []\n",
    "content = []\n",
    "for item in f:\n",
    "    page, code = item.split('\\t')\n",
    "    pages.append(page)\n",
    "    content.append(code)"
   ]
  },
  {
   "cell_type": "code",
   "execution_count": 4,
   "id": "3cd5dc45-651e-4265-9c05-adbd68aa81d3",
   "metadata": {
    "tags": []
   },
   "outputs": [
    {
     "name": "stdout",
     "output_type": "stream",
     "text": [
      "April\n"
     ]
    },
    {
     "data": {
      "text/plain": [
       "\"* [[April 1]], [[1918]] - The [[Royal Air Force]] is founded.\\\\n* [[April 1]], [[1976]] - [[Apple Inc.]] is founded.\\\\n* [[April 1]], [[1979]] - The [[Islamic Republic of Iran]] is founded.\\\\n* [[April 1]], [[1999]] - The [[territory]] of [[Nunavut]] is created in Northern [[Canada]].\\\\n* [[April 1]], [[2001]] - The [[Netherlands]] introduces [[same-sex marriage]], as the first [[country]] to do so.\\\\n* [[April 2]], [[1519]] - [[Florida]] is sighted by a [[Europe]]an for the first time.\\\\n* [[April 2]], [[1930]] - [[Haile Selassie]] becomes [[Emperor of Ethiopia]].\\\\n* [[April 2]], [[1982]] - Start of the [[Falklands War]], as Argentine forces land on the [[Falkland Islands]].\\\\n* [[April 2]], [[2005]] - [[Pope John Paul II]] dies aged 84, after 26-and-a-half years as [[Pope]].\\\\n* [[April 3]], [[1973]] - The first-ever [[mobile phone]] call is placed by Martin Cooper in [[New York City]].\\\\n* [[April 4]], [[1721]] - [[Robert Walpole]] becomes the first [[Prime Minister]] of [[Great Britain]].\\\\n* [[April 4]], [[1841]] - [[William Henry Harrison]] dies. He was [[President of the United States]] for 31 days, the shortest-ever time in office for a US President.\\\\n* [[April 4]], [[1960]] - [[Senegal]] becomes independent.\\\\n* [[April 4]], [[1968]] - [[Assassination]] of [[Martin Luther King, Jr.]] in [[Memphis, Tennessee]].\\\\n* [[April 5]], [[1722]] - [[Jacob Roggeveen]] becomes the first [[Europe]]an to land on [[Easter Island]], landing there on [[Easter]] Sunday.\\\\n* [[April 6]], [[1320]] - [[Scotland]]'s independence is confirmed with the Declaration of [[Arbroath]].\\\\n* [[April 6]], [[1830]] - The [[Mormonism|Mormon]] Church is founded.\\\\n* [[April 6]], [[1909]] - [[Robert Peary]] claims to have been first at the [[North Pole]] on this date.\\\\n* [[April 7]], [[1994]] - The [[Rwandan Genocide]] begins.\\\\n* [[April 9]], [[1865]] - [[American Civil War]]: [[Confederate States of America|Confederate]] forces under [[Robert E. Lee]] surrender to Union forces.\\\\n* [[April 9]], [[1940]] - [[World War II]]: [[Denmark]] and [[Norway]] are invaded by [[Nazi]] [[Germany]].\\\\n* [[April 9]], [[1989]] - April 9 tragedy: In [[Tbilisi]], [[Georgia (country)|Georgia]], a peaceful demonstration for independence is broken up by the [[Soviet]] [[Army]], killing 20 people. The country gains independence on this date exactly two years later.\\\\n* [[April 10]], [[1815]] - Mount [[Tambora]] in [[Indonesia]] erupts in a huge eruption, affecting the world's climate for at least a year.\\\\n* [[April 10]], [[2010]] - A [[fixed-wing aircraft|plane]] crash near Smolensk, [[Russia]], kills several people who were important in [[Poland]], including [[President]] [[Lech Kaczynski]].\\\\n* [[April 11]], [[1814]] - [[Napoleon Bonaparte]] is [[exile]]d to the [[island]] of [[Elba]].\\\\n* [[April 11]], [[1954]] - Said to have been the most boring day of the [[20th century]].\\\\n* [[April 12]], [[1861]] - The [[American Civil War]] begins at [[Fort Sumter]], [[Charleston, South Carolina]].\\\\n* [[April 12]], [[1945]] - US President [[Franklin D. Roosevelt]] dies, and [[Harry S. Truman]] replaces him.\\\\n* [[April 12]], [[1961]] - [[Yuri Gagarin]] becomes the first [[human]] to fly into [[Outer space|space]].\\\\n* [[April 14]], [[1865]] - US President [[Abraham Lincoln]] is shot dead at Ford's Theatre by [[John Wilkes Booth]]. Lincoln dies the next day.\\\\n* [[April 14]], [[2010]] - [[Qinghai]] Province, [[China]], is hit by an [[earthquake]], killing tens of thousands of people.\\\\n* [[April 14]], [[2010]] - The eruption of [[Eyjafjallajokull]] in [[Iceland]] shuts down air traffic around [[Europe]] for a week, due to its ash cloud.\\\\n* [[April 15]], [[1912]] - The [[ship]] [[RMS Titanic]] sinks near [[Newfoundland]] after hitting an iceberg, resulting in the deaths of many of the people on board.\\\\n* [[April 16]], [[1943]] - [[Albert Hofmann]] discovers [[LSD]]'s effects.\\\\n* [[April 17]], [[1946]] - [[Syria]] gains full independence from [[France]].\\\\n* [[April 18]], [[1906]] - [[1906 San Francisco earthquake]]: [[San Francisco]], [[California]], is hit by a big [[earthquake]], resulting in [[fire]]s that destroy large parts of the city.\\\\n* [[April 18]], [[1980]] - [[Zimbabwe]] gains full independence.\\\\n* [[April 19]], [[1897]] - The first [[Boston Marathon]] is held.\\\\n* [[April 19]], [[1971]] - [[Sierra Leone]] becomes a [[republic]].\\\\n* [[April 19]], [[1993]] - The siege of the Branch Davidians at Waco, [[Texas]], ends in a fire that kills 82 people.\\\\n* [[April 19]], [[1995]] - [[Timothy McVeigh]] carries out the [[Oklahoma City bombing]], killing 169 people.\\\\n* [[April 19]], [[2005]] - Joseph Alois Ratzinger becomes [[Pope Benedict XVI]].\\\\n* [[April 20]], [[1902]] - [[Marie Curie]] and [[Pierre Curie]] refine [[Radium]].\\\\n* [[April 20]], [[2010]] - [[Deepwater Horizon oil spill]]: A massive fire on the Deepwater Horizon drilling rig in the [[Gulf of Mexico]] kills 11 workers and causes a massive [[oil]] spill, the worst spill in US history.\\\\n* [[April 21]], [[753 BC]] - Legendary founding date of [[Rome]]\\\\n* [[April 21]], [[1509]] - [[Henry VIII of England]] becomes [[King]].\\\\n* [[April 21]], [[1908]] - [[Frederick Cook]] claims to have reached the [[North Pole]] on this date.\\\\n* [[April 22]], [[1502]] - [[Pedro Alvares Cabral]] becomes the first [[Europe]]an to reach present-day [[Brazil]].\\\\n* [[April 22]], [[1970]] - [[Earth Day]] is observed for the first time.\\\\n* [[April 23]], [[1533]] - The [[Church of England]] declares that [[Henry VIII of England]] and [[Catherine of Aragon]] are not married.\\\\n* [[April 24]], [[1916]] - The [[Easter Rising]] occurs in [[Dublin]], [[Ireland]].\\\\n* [[April 24]], [[1990]] - The [[Hubble Space Telescope]] is launched on the [[Space Shuttle Discovery]].\\\\n* [[April 25]], [[1915]] - [[World War I]]: In [[Turkey]], the [[Battle of Gallipoli]] begins, [[Australia]]n, French, British and [[New Zealand]] forces land at Anzac cove.\\\\n* [[April 25]], [[1974]] - [[Portugal]]'s dictatorship is overthrown in a coup, in what is known as the Carnation Revolution.\\\\n* [[April 26]], [[1937]] - [[Spanish Civil War]]: German planes bomb the town of Guernica, [[Basque Country (autonomous community)|Basque Country]], later depicted in a painting by [[Pablo Picasso]].\\\\n* [[April 26]], [[1964]] - [[Tanganyika]] and [[Zanzibar]] merge to form [[Tanzania]].\\\\n* [[April 26]], [[1986]] - A reactor explosion occurs at the [[Chernobyl]] nuclear plant in present-day [[Ukraine]], with [[radiation]] spreading around Europe and the world.\\\\n* [[April 26]]/[[April 27|27]], [[1994]] - [[South Africa]] holds its first free elections.\\\\n* [[April 27]], [[1960]] - [[Togo]] becomes independent from [[France]].\\\\n* [[April 27]], [[1961]] - [[Sierra Leone]] becomes independent from the [[United Kingdom]].\\\\n* [[April 28]], [[1789]] - Mutiny on the ship Bounty in the [[Pacific Ocean]], lead by [[Fletcher Christian]].\\\\n* [[April 28]], [[1945]] - [[Benito Mussolini]] is executed by Italian partisans.\\\\n* [[April 28]], [[1947]] - In [[Peru]], [[Thor Heyerdahl]] starts his [[Kon-Tiki]] expedition aimed at proving his theory that the [[Polynesia]]n settlers on the [[Pacific Ocean]]'s [[island]]s came from [[South America]].\\\\n* [[April 29]], [[1991]] - A [[cyclone]] in [[Bangladesh]] kills an estimated 138,000 people.\\\\n* [[April 29]], [[2011]] - The wedding of [[Prince William, Duke of Cambridge]] and [[Catherine, Duchess of Cambridge]] is broadcast worldwide.\\\\n* [[April 30]], [[1789]] - [[George Washington]] becomes the first [[President of the United States]].\\\\n* [[April 30]], [[1803]] - The [[United States]] purchases (buys) the [[Louisiana]] territory from [[France]].\\\\n* [[April 30]], [[1945]] - [[Adolf Hitler]] commits suicide on the same day that the [[Soviet]] Army raises the Red Flag on [[Berlin]]'s [[Reichstag (building)|Reichstag]].\\\\n* [[April 30]], [[1952]] - The [[Diary]] of [[Anne Frank]] is published in English.\\\\n* [[April 30]], [[1975]] - The [[Vietnam War]] ends, as [[North Vietnam]]ese forces take [[Saigon]].\\\\n* [[April 30]], [[1980]] - Queen [[Juliana of the Netherlands]] abdicates the throne, and her daughter becomes Queen [[Beatrix of the Netherlands]]. Beatrix later also abdicates, on this day in [[2013]], in favor of her son, King [[Willem-Alexander of the Netherlands]].\\n\""
      ]
     },
     "execution_count": 4,
     "metadata": {},
     "output_type": "execute_result"
    }
   ],
   "source": [
    "x = 2\n",
    "print(pages[x])\n",
    "content[x]"
   ]
  },
  {
   "cell_type": "code",
   "execution_count": 27,
   "id": "c08b2ec8-245e-44aa-b1c7-32df6d6ae66e",
   "metadata": {
    "tags": []
   },
   "outputs": [],
   "source": [
    "# 3, 195, 107, 154, 220, 308\n",
    "sentence = content[633].replace('\\\\n', '\\n').splitlines()"
   ]
  },
  {
   "cell_type": "code",
   "execution_count": 36,
   "id": "58fa1187-b758-4469-aa51-d5bf00abe23c",
   "metadata": {
    "tags": []
   },
   "outputs": [
    {
     "data": {
      "text/plain": [
       "['* [[English language|English]]', '*[[Scots]]', '**[[Ulster Scots]]']"
      ]
     },
     "execution_count": 36,
     "metadata": {},
     "output_type": "execute_result"
    }
   ],
   "source": [
    "sentence"
   ]
  },
  {
   "cell_type": "code",
   "execution_count": 55,
   "id": "55cbf504-ed39-4a5c-a788-3e42482db91e",
   "metadata": {
    "tags": []
   },
   "outputs": [
    {
     "name": "stdout",
     "output_type": "stream",
     "text": [
      "* [[English]]* [[English]]\n"
     ]
    }
   ],
   "source": [
    "def replace_format(string):\n",
    "    start = string.find(\"[[\")\n",
    "    while start != -1:\n",
    "        end = string.find(\"]]\", start)\n",
    "        if end != -1:\n",
    "            pipe = string.find(\"|\", start, end)\n",
    "            if pipe != -1:\n",
    "                string = string[:start] + \"[[\" + string[pipe+1:end] + \"]]\" + string[end+2:]\n",
    "            else:\n",
    "                string = string[:start] + \"[[\" + string[start+2:end] + \"]]\" + string[end+2:]\n",
    "        start = string.find(\"[[\", start+2)\n",
    "    return string\n",
    "\n",
    "# Example usage\n",
    "input_string = \"This is an example [[word|replacement]].\"\n",
    "output_string = replace_format(bongus)\n",
    "print(output_string)"
   ]
  },
  {
   "cell_type": "code",
   "execution_count": 60,
   "id": "3feb4e23-1986-410e-b432-59fe014f799d",
   "metadata": {
    "tags": []
   },
   "outputs": [
    {
     "data": {
      "text/plain": [
       "['* English', '*Scots', '**Ulster Scots']"
      ]
     },
     "execution_count": 60,
     "metadata": {},
     "output_type": "execute_result"
    }
   ],
   "source": [
    "\n",
    "def cleaning(l):\n",
    "    cleaned = []\n",
    "    temp = ''\n",
    "    for item in l:\n",
    "        temp = replace_format(item)\n",
    "        temp = temp.replace('[', '')\n",
    "        temp = temp.replace(']', '')\n",
    "        temp = temp.replace('(', '')\n",
    "        temp = temp.replace(')', '')\n",
    "        cleaned.append(temp.strip())\n",
    "    return cleaned\n",
    "\n",
    "\n",
    "cleaned = cleaning(sentence)\n",
    "cleaned"
   ]
  },
  {
   "cell_type": "code",
   "execution_count": 8,
   "id": "ed0a11e8-cbd3-49be-8b22-80673d9dfb05",
   "metadata": {
    "tags": []
   },
   "outputs": [
    {
     "name": "stdout",
     "output_type": "stream",
     "text": [
      "Triples in '* Hokkaido': []\n",
      "Triples in '* Tohoku': []\n",
      "Triples in '* Kanto': []\n",
      "Triples in '* Chubu': []\n",
      "Triples in '* Kansai': []\n",
      "Triples in '* Chugoku': []\n",
      "Triples in '* Shikoku': []\n",
      "Triples in '* Kyushu': []\n"
     ]
    }
   ],
   "source": [
    "for item in cleaned:\n",
    "    doc = nlp(item)\n",
    "\n",
    "    # Extract subject-verb-object triples\n",
    "    triples = []\n",
    "    for token in doc:\n",
    "        if token.dep_ == \"nsubj\" and token.head.pos_ == \"VERB\":\n",
    "            subject = token.text\n",
    "            verb = token.head.text\n",
    "            object_ = [child.text for child in token.head.children if child.dep_ == \"dobj\"]\n",
    "            if object_:\n",
    "                triples.append((subject, verb, object_[0]))\n",
    "\n",
    "    # Print extracted triples\n",
    "    print(f\"Triples in '{item}': {triples}\")"
   ]
  },
  {
   "cell_type": "code",
   "execution_count": 9,
   "id": "04c03245-7af4-4ab8-86fa-5e3f965f6352",
   "metadata": {
    "tags": []
   },
   "outputs": [
    {
     "name": "stdout",
     "output_type": "stream",
     "text": [
      "Named Entities: []\n",
      "Named Entities: []\n",
      "Named Entities: []\n",
      "Named Entities: [('Chubu', 'PERSON')]\n",
      "Named Entities: [('Kansai', 'PERSON')]\n",
      "Named Entities: [('Chugoku', 'ORG')]\n",
      "Named Entities: []\n",
      "Named Entities: [('Kyushu', 'ORG')]\n",
      "Monarchs and Birthdates:\n"
     ]
    }
   ],
   "source": [
    "for item in cleaned:\n",
    "    # Process the sentence\n",
    "    doc = nlp(item)\n",
    "\n",
    "    # Extract named entities\n",
    "    entities = [(ent.text, ent.label_) for ent in doc.ents]\n",
    "\n",
    "    # Initialize variables\n",
    "    monarchs = []\n",
    "\n",
    "    # Iterate over the tokens\n",
    "    for token in doc:\n",
    "        if token.pos_ == \"PROPN\":\n",
    "            # Check if the token is a named entity of type 'PERSON'\n",
    "            if token.ent_type_ == \"PERSON\":\n",
    "                # Get the head token of the named entity\n",
    "                head_token = token.head\n",
    "                monarch = {\"name\": token.text}\n",
    "\n",
    "                # Check if the head token is a title (e.g., 'King', 'Queen', etc.)\n",
    "                if head_token.pos_ == \"PROPN\":\n",
    "                    monarch[\"title\"] = head_token.text\n",
    "\n",
    "                # Iterate over the children of the head token\n",
    "                for child in head_token.children:\n",
    "                    # Check if a child token is a country or birthdate\n",
    "                    if child.pos_ == \"PROPN\" and child.dep_ == \"pobj\":\n",
    "                        monarch[\"country\"] = child.text\n",
    "                    elif child.ent_type_ == \"DATE\":\n",
    "                        monarch[\"birthdate\"] = child.text\n",
    "\n",
    "                monarchs.append(monarch)\n",
    "\n",
    "    # Print extracted information\n",
    "    print(\"Named Entities:\", entities)\n",
    "\n",
    "print(\"Monarchs and Birthdates:\")\n",
    "for monarch in monarchs:\n",
    "    print(f\"- {monarch.get('title', '')} {monarch['name']} of {monarch.get('country', '')} ({monarch.get('birthdate', '')})\")\n"
   ]
  },
  {
   "cell_type": "code",
   "execution_count": 10,
   "id": "f6b3c604-6296-49e5-a1da-6f72ca228aca",
   "metadata": {
    "tags": []
   },
   "outputs": [
    {
     "name": "stdout",
     "output_type": "stream",
     "text": [
      "Part of Speech tags:\n",
      "*: PUNCT\n",
      "Hokkaido: NOUN\n",
      "Part of Speech tags:\n",
      "*: PUNCT\n",
      "Tohoku: PROPN\n",
      "Part of Speech tags:\n",
      "*: PUNCT\n",
      "Kanto: PROPN\n",
      "Part of Speech tags:\n",
      "*: PUNCT\n",
      "Chubu: PROPN\n",
      "Part of Speech tags:\n",
      "*: PUNCT\n",
      "Kansai: PROPN\n",
      "Part of Speech tags:\n",
      "*: PUNCT\n",
      "Chugoku: NOUN\n",
      "Part of Speech tags:\n",
      "*: PUNCT\n",
      "Shikoku: PROPN\n",
      "Part of Speech tags:\n",
      "*: PUNCT\n",
      "Kyushu: NOUN\n"
     ]
    }
   ],
   "source": [
    "for item in cleaned:\n",
    "    # Process the sentence\n",
    "    doc = nlp(item)\n",
    "    pos_tags = [(token.text, token.pos_) for token in doc]\n",
    "\n",
    "    # Print part of speech tags\n",
    "    print(\"Part of Speech tags:\")\n",
    "    for token, pos in pos_tags:\n",
    "        print(f\"{token}: {pos}\")"
   ]
  },
  {
   "cell_type": "code",
   "execution_count": 11,
   "id": "aa04b337-a828-425a-a247-26b167ad71f6",
   "metadata": {
    "tags": []
   },
   "outputs": [
    {
     "data": {
      "text/html": [
       "<span class=\"tex2jax_ignore\"><svg xmlns=\"http://www.w3.org/2000/svg\" xmlns:xlink=\"http://www.w3.org/1999/xlink\" xml:lang=\"en\" id=\"1d0bdc58e3674cbaa21b3d048858cac4-0\" class=\"displacy\" width=\"400\" height=\"224.5\" direction=\"ltr\" style=\"max-width: none; height: 224.5px; color: #000000; background: #ffffff; font-family: Arial; direction: ltr\">\n",
       "<text class=\"displacy-token\" fill=\"currentColor\" text-anchor=\"middle\" y=\"134.5\">\n",
       "    <tspan class=\"displacy-word\" fill=\"currentColor\" x=\"50\">*</tspan>\n",
       "    <tspan class=\"displacy-tag\" dy=\"2em\" fill=\"currentColor\" x=\"50\">PUNCT</tspan>\n",
       "</text>\n",
       "\n",
       "<text class=\"displacy-token\" fill=\"currentColor\" text-anchor=\"middle\" y=\"134.5\">\n",
       "    <tspan class=\"displacy-word\" fill=\"currentColor\" x=\"225\">Kyushu</tspan>\n",
       "    <tspan class=\"displacy-tag\" dy=\"2em\" fill=\"currentColor\" x=\"225\">NOUN</tspan>\n",
       "</text>\n",
       "\n",
       "<g class=\"displacy-arrow\">\n",
       "    <path class=\"displacy-arc\" id=\"arrow-1d0bdc58e3674cbaa21b3d048858cac4-0-0\" stroke-width=\"2px\" d=\"M70,89.5 C70,2.0 225.0,2.0 225.0,89.5\" fill=\"none\" stroke=\"currentColor\"/>\n",
       "    <text dy=\"1.25em\" style=\"font-size: 0.8em; letter-spacing: 1px\">\n",
       "        <textPath xlink:href=\"#arrow-1d0bdc58e3674cbaa21b3d048858cac4-0-0\" class=\"displacy-label\" startOffset=\"50%\" side=\"left\" fill=\"currentColor\" text-anchor=\"middle\">punct</textPath>\n",
       "    </text>\n",
       "    <path class=\"displacy-arrowhead\" d=\"M70,91.5 L62,79.5 78,79.5\" fill=\"currentColor\"/>\n",
       "</g>\n",
       "</svg></span>"
      ],
      "text/plain": [
       "<IPython.core.display.HTML object>"
      ]
     },
     "metadata": {},
     "output_type": "display_data"
    }
   ],
   "source": [
    "from spacy import displacy\n",
    "\n",
    "displacy.render(doc,style='dep')"
   ]
  },
  {
   "cell_type": "code",
   "execution_count": 12,
   "id": "46da72a1-d447-4176-a774-0cdf35c377a3",
   "metadata": {
    "tags": []
   },
   "outputs": [
    {
     "data": {
      "text/plain": [
       "[' PUNCT NOUN',\n",
       " ' PUNCT NOUN',\n",
       " ' PUNCT NOUN',\n",
       " ' PUNCT NOUN',\n",
       " ' PUNCT NOUN',\n",
       " ' PUNCT NOUN',\n",
       " ' PUNCT NOUN',\n",
       " ' PUNCT NOUN']"
      ]
     },
     "execution_count": 12,
     "metadata": {},
     "output_type": "execute_result"
    }
   ],
   "source": [
    "def convert_pos(cleaned):\n",
    "    part_of_speech = []\n",
    "    for item in cleaned:\n",
    "        new_item = ''\n",
    "        # Process the sentence\n",
    "        doc = nlp(item)\n",
    "        for token in doc:\n",
    "            if token.pos_ != 'PROPN':\n",
    "                new_item += \" \" + token.pos_\n",
    "            else:\n",
    "                new_item += \" NOUN\"\n",
    "        part_of_speech.append(new_item)\n",
    "    return part_of_speech\n",
    "\n",
    "pos_line = convert_pos(cleaned)\n",
    "pos_line"
   ]
  },
  {
   "cell_type": "code",
   "execution_count": 13,
   "id": "5ac6fc73-2d7b-442f-a19a-a02c95c67a44",
   "metadata": {},
   "outputs": [],
   "source": [
    "import templater3"
   ]
  },
  {
   "cell_type": "code",
   "execution_count": 14,
   "id": "7d294a31-d350-4ea2-99df-c96c5595629c",
   "metadata": {
    "tags": []
   },
   "outputs": [
    {
     "name": "stdout",
     "output_type": "stream",
     "text": [
      "template: [None, ' PUNCT NOUN', None]\n"
     ]
    }
   ],
   "source": [
    "template = templater3.Templater(min_block_size=2)\n",
    "\n",
    "for row in pos_line:\n",
    "    template.learn(row)\n",
    "print('template:',  template._template)"
   ]
  },
  {
   "cell_type": "code",
   "execution_count": 15,
   "id": "7549633c-af44-4743-9c1a-ef1106cf20a9",
   "metadata": {},
   "outputs": [
    {
     "data": {
      "text/plain": [
       "['* Hokkaido',\n",
       " '* Tohoku',\n",
       " '* Kanto',\n",
       " '* Chubu',\n",
       " '* Kansai',\n",
       " '* Chugoku',\n",
       " '* Shikoku',\n",
       " '* Kyushu']"
      ]
     },
     "execution_count": 15,
     "metadata": {},
     "output_type": "execute_result"
    }
   ],
   "source": [
    "cleaned"
   ]
  },
  {
   "cell_type": "code",
   "execution_count": 16,
   "id": "702cd54b-9cf8-4da6-829f-50e247278b0e",
   "metadata": {
    "tags": []
   },
   "outputs": [
    {
     "name": "stdout",
     "output_type": "stream",
     "text": [
      "template: [None, '* [[', None, ']]', None]\n"
     ]
    }
   ],
   "source": [
    "template2 = templater3.Templater(min_block_size=1)\n",
    "\n",
    "for row in sentence:\n",
    "    template2.learn(row)\n",
    "print('template:',  template2._template)"
   ]
  },
  {
   "cell_type": "code",
   "execution_count": 17,
   "id": "9b93b671-1213-44f0-bfc9-4ef6e206b79b",
   "metadata": {
    "tags": []
   },
   "outputs": [
    {
     "name": "stdout",
     "output_type": "stream",
     "text": [
      "* [[Hokkaido]]\n",
      "* [[Tohoku]]\n",
      "* [[Kanto]]\n",
      "* [[Chubu]]\n",
      "* [[Kansai]]\n",
      "* [[Chugoku]]\n",
      "* [[Shikoku]]\n",
      "* [[Kyushu]]\n"
     ]
    }
   ],
   "source": [
    "for i in sentence:\n",
    "    print(i)"
   ]
  },
  {
   "cell_type": "code",
   "execution_count": 18,
   "id": "a6f99795-2bc9-494b-9c25-c7cb3c62b28c",
   "metadata": {
    "tags": []
   },
   "outputs": [],
   "source": [
    "def generate_numbers(size):\n",
    "    numbers = random.sample(range(1001), size)\n",
    "    return numbers\n",
    "\n",
    "chosen = generate_numbers(30)"
   ]
  },
  {
   "cell_type": "code",
   "execution_count": 19,
   "id": "50e73d95-54e8-4687-b3f5-5758d8a86798",
   "metadata": {
    "tags": []
   },
   "outputs": [
    {
     "name": "stdout",
     "output_type": "stream",
     "text": [
      "[41, 633, 723, 396, 946, 709, 804, 714, 423, 552, 875, 650, 182, 68, 668, 438, 496, 6, 297, 164, 26, 614, 451, 684, 635, 20, 386, 973, 883, 840]\n"
     ]
    }
   ],
   "source": [
    "print(chosen)"
   ]
  },
  {
   "cell_type": "code",
   "execution_count": 64,
   "id": "edd7c1d6-c13f-4311-8bd6-7903f3749fd8",
   "metadata": {
    "tags": []
   },
   "outputs": [
    {
     "name": "stdout",
     "output_type": "stream",
     "text": [
      "['* [[Supernova]]s', '* [[Nova]]s']\n",
      "[' PUNCT NOUN', ' PUNCT NOUN']\n",
      "[None, ' PUNCT NOUN', None]\n",
      "----------------------\n",
      "['* [[English language|English]]', '*[[Scots]]', '**[[Ulster Scots]]']\n",
      "[' PUNCT NOUN', ' PUNCT NOUN', ' PUNCT PUNCT NOUN NOUN']\n",
      "[None, ' PUNCT NOUN', None]\n",
      "----------------------\n",
      "['\"*[[Yard (land)]], an open space around a building. For instance, the space around a school is called a \\'\\'school yard\\'\\'. A yard is used by humans and their pets.  If there is wild space next to it, like forest land, swamp land, a beach or a lake, this will not normally be considered \"\"part of\"\" the yard – the yard ends at the edge of it.', '*[[Yard (sailing)]], a spar on a traditional sailing ship', '*[[Brickyard]], a place where bricks are made or stored\"']\n",
      "[' PUNCT ADJ NOUN NOUN PUNCT DET ADJ NOUN ADP DET NOUN PUNCT ADP NOUN PUNCT DET NOUN ADP DET NOUN AUX VERB DET PUNCT NOUN NOUN PUNCT PUNCT DET NOUN AUX VERB ADP NOUN CCONJ PRON NOUN PUNCT SPACE SCONJ PRON VERB ADJ NOUN ADV ADP PRON PUNCT ADP NOUN NOUN PUNCT NOUN NOUN PUNCT DET NOUN CCONJ DET NOUN PUNCT PRON AUX PART ADV AUX VERB PUNCT PUNCT NOUN ADP PUNCT PUNCT DET NOUN PUNCT DET NOUN VERB ADP DET NOUN ADP PRON PUNCT', ' PUNCT NOUN NOUN PUNCT DET NOUN ADP DET ADJ NOUN NOUN', ' PUNCT NOUN PUNCT DET NOUN SCONJ NOUN AUX VERB CCONJ VERB PUNCT']\n",
      "[None, ' PUNCT', None, ' NOUN PUNCT DET NOUN ', None, 'NOUN ', None, 'UN', None]\n",
      "----------------------\n",
      "['* [[Galaxy]]', '* [[Local Group]]', '* [[List of galaxies]]']\n",
      "[' PUNCT NOUN', ' PUNCT NOUN NOUN', ' PUNCT NOUN ADP NOUN']\n",
      "[None, ' PUNCT NOUN', None]\n",
      "----------------------\n",
      "['* [http://wien.at/english/ Official Website of the city of Vienna (English)]', '* [http://wiki.worldflicks.org/vienna.html WorldFlicks in Vienna: Photos and interesting places on Google Maps] {{Webarchive|url=https://web.archive.org/web/20080221042235/http://wiki.worldflicks.org/vienna.html |date=2008-02-21 }}']\n",
      "[' PUNCT NUM ADJ NOUN ADP DET NOUN ADP NOUN NOUN', ' PUNCT X NOUN ADP NOUN PUNCT NOUN CCONJ ADJ NOUN ADP NOUN NOUN PUNCT PUNCT NOUN SYM NOUN SYM NOUN SYM NOUN SYM NOUN NOUN PUNCT NUM SYM NUM PUNCT PUNCT']\n",
      "[None, ' PUNCT ', None, ' NOUN ADP ', None, ' NOUN ADP NOUN NOUN', None]\n",
      "----------------------\n",
      "['* [[Flock]]', '* [[Epiphany (software)|Epiphany]]']\n",
      "[' PUNCT NOUN', ' PUNCT NOUN']\n",
      "[None, ' PUNCT NOUN', None]\n",
      "----------------------\n",
      "['*[[Semantics]] -  what was the meaning of the words or signs used; ', '*[[Pragmatics]] - who said it, to whom and in what circumstances and ', '*[[Syntactics]] - the formal rules of the language used.']\n",
      "[' PUNCT NOUN PUNCT SPACE PRON AUX DET NOUN ADP DET NOUN CCONJ NOUN VERB PUNCT', ' PUNCT NOUN PUNCT PRON VERB PRON PUNCT ADP PRON CCONJ ADP PRON NOUN CCONJ', ' PUNCT NOUN PUNCT DET ADJ NOUN ADP DET NOUN VERB PUNCT']\n",
      "[None, ' PUNCT NOUN PUNCT ', None, 'UN', None, ' ADP ', None, ' NOUN ', None]\n",
      "----------------------\n",
      "['* [http://www.microsoft.com/windows The Microsoft Windows website]', '* [https://blogs.windows.com/ The Windows Team Blog] – Official blog of the Windows Team at Microsoft']\n",
      "[' PUNCT VERB DET NOUN NOUN NOUN', ' PUNCT NOUN DET NOUN NOUN NOUN PUNCT ADJ NOUN ADP DET NOUN NOUN ADP NOUN']\n",
      "[None, ' PUNCT ', None, ' DET NOUN NOUN NOUN', None]\n",
      "----------------------\n",
      "['* [[1 (number)|1]] – one', '* [[10 (number)|10]] – ten', '* 100 – one [[hundred]]', '* 1,000 – one [[thousand]]', '* [[1,000,000]] – one [[million]]']\n",
      "[' PUNCT NUM PUNCT NUM', ' PUNCT NUM PUNCT NUM', ' PUNCT NUM PUNCT NUM NUM', ' PUNCT NUM PUNCT NUM NUM', ' PUNCT NUM PUNCT NUM NUM']\n",
      "[None, ' PUNCT NUM PUNCT NUM', None]\n",
      "----------------------\n",
      "['* [[September 1]] {{ndash}} [[1715]]: The reign of [[Louis XIV of France]] ends with his death after 72 years on the throne.', '* [[September 1]] {{ndash}} [[1914]]: Martha, the last Passenger [[Pigeon]], dies, making her [[species]] extinct.', '* [[September 1]] {{ndash}} [[1939]]: [[Nazi]] [[Germany]] invades [[Poland]], starting [[World War II]].', '* [[September 1]] {{ndash}} [[1969]]: [[Muammar al-Gaddafi]] takes power in [[Libya]], in a coup.', '* [[September 1]] {{ndash}} [[1983]]: Korean Air Flight KAL-007 is shot down by a [[Soviet]] jet fighter, near [[Sakhalin]] Island, killing all 269 on board.', '* [[September 1]] {{ndash}} [[1991]]: [[Uzbekistan]] becomes independent from the [[Soviet Union]].', '* [[September 2]] {{ndash}} [[1838]]: [[Liliuokalani]], the last [[Hawaii]]an [[monarch]], is born.', '* [[September 2]] {{ndash}} [[1945]]: [[Japan]] signs the final surrender at the end of [[World War II]].', '* [[September 2]] {{ndash}} [[1945]]: [[Vietnam]] becomes independent, with [[Ho Chi Minh]] as leader.', '* [[September 3]] {{ndash}} [[301]]: [[San Marino]] is founded.', '* [[September 3]] {{ndash}} [[1939]]: The [[United Kingdom]] and [[France]] declare war on [[Germany]], following its invasion of [[Poland]].', '* [[September 3]] {{ndash}} [[1950]]: [[Giuseppe Farina]] becomes the first [[Formula One]] racing champion.', '* [[September 3]] {{ndash}} [[1967]]: Road traffic in [[Sweden]] is moved from the left to the right.', '* [[September 3]] {{ndash}} [[1971]]: [[Qatar]] becomes independent.', '* [[September 5]] {{ndash}} [[1972]]: Several members of the [[Israel]]i [[Olympic Games|Olympic]] team are kidnapped at the [[1972 Summer Olympics]] in [[Munich]]. They are killed the next day.', '* [[September 6]] {{ndash}} [[1901]]: [[US]] President [[William McKinley]] is shot by [[Leon Czolgosz]], dying over a week later.', '* [[September 6]] {{ndash}} [[1968]]: [[Swaziland]] becomes independent.', '* [[September 6]] {{ndash}} [[1997]]: The funeral of [[Diana, Princess of Wales]] takes place in [[London]].', '* [[September 7]] {{ndash}} [[1533]]: Queen [[Elizabeth I of England]] is born.', '* [[September 7]] {{ndash}} [[1822]]: [[Brazil]] declares independence from [[Portugal]]', '* [[September 7]] {{ndash}} [[1940]]: The [[World War II]] [[Battle of Britain]] begins.', '* [[September 7]] {{ndash}} [[2011]]: All members of the [[Russia]]n [[ice hockey]] [[team]] [[Lokomotiv Yaroslavl]] are killed in a plane crash.', '* [[September 8]] {{ndash}} [[1943]]: US General [[Dwight D. Eisenhower]] announces the [[Allies of World War II|allied]] armistice with [[Italy]] during [[World War II]].', '* [[September 8]] {{ndash}} [[1991]]: The [[Republic of Macedonia]] declares independence from [[Yugoslavia]].', '* [[September 9]] {{ndash}} [[1850]]: [[California]] becomes the 31st State of the [[US]].', '* [[September 9]] {{ndash}} [[1991]]: [[Tajikistan]] becomes independent from the [[Soviet Union]].', '* [[September 10]] {{ndash}} [[1898]]: [[Elisabeth of Bavaria]], Empress of [[Austria]] is stabbed to death by Italian [[Anarchy|anarchist]] Luigi Lucheni at Lake [[Geneva]], [[Switzerland]].', '* [[September 10]] {{ndash}} [[1974]]: [[Guinea-Bissau]] officially becomes independent.', '* [[September 10]] {{ndash}} [[2008]]: [[Scientist]]s at [[CERN]] switch the [[Large Hadron Collider]] on for the first time.', '* [[September 11]] {{ndash}} [[1973]]: [[Augusto Pinochet]] takes power in a military coup in [[Chile]]. President [[Salvador Allende]] dies during the coup.', '* [[September 11]] {{ndash}} [[1997]]: Voters in [[Scotland]] approve the creation of a new [[Scottish Parliament]].', '* [[September 11]] {{ndash}} [[2001]]: The [[September 11 attacks]] occur, as [[Islam]]ist terrorists crash airplanes into the [[World Trade Center (1973–2001)|World Trade Center]] in [[New York City]] and [[the Pentagon]].', '* [[September 12]] {{ndash}} [[1977]]: Anti-[[Apartheid]] activist [[Steve Biko]] dies in police custody.', \"* [[September 13]] {{ndash}} [[1759]]: [[Battle of the Plains of Abraham]]: [[United Kingdom|British]] forces defeat [[France|French]] forces near [[Quebec City]] in the [[Seven Years' War]].\", '* [[September 14]] {{ndash}} [[1752]]: [[Great Britain]] switches from the [[Julian calendar]] to the [[Gregorian calendar]].', '* [[September 14]] {{ndash}} [[1982]]: [[Grace Kelly]] dies after a car crash the previous day.', '* [[September 15]] {{ndash}} [[1821]]: [[Costa Rica]], [[El Salvador]], [[Guatemala]], [[Honduras]] and [[Nicaragua]] declare independence from [[Spain]].', '* [[September 16]] {{ndash}} [[1810]]: [[Mexico]] declares independence from [[Spain]].', '* [[September 16]] {{ndash}} [[1975]]: [[Papua New Guinea]] becomes independent from [[Australia]].', '* [[September 17]] {{ndash}} [[1787]]: The [[United States]] [[Constitution]] is signed in [[Philadelphia]], [[Pennsylvania]].', '* [[September 17]] {{ndash}} [[2011]]: The [[Occupy Wall Street]] movement begins in [[New York City]].', '* [[September 18]] {{ndash}} [[1810]]: [[Chile]] declares independence.', '* [[September 18]] {{ndash}} [[1970]]: Musician [[Jimi Hendrix]] dies in [[London]], aged 27.', '* [[September 19]] {{ndash}} [[1983]]: [[Saint Kitts and Nevis]] becomes independent.', '* [[September 19]] {{ndash}} [[1985]]: Southern and Central [[Mexico]] are struck by a strong [[earthquake]]. [[Mexico City]] is among the places affected.', '* [[September 21]] {{ndash}} [[1964]]: [[Malta]] gains independence from the [[UK]].', '* [[September 21]] {{ndash}} [[1981]]: [[Belize]] gains independence from the [[UK]].', '* [[September 21]] {{ndash}} [[1989]]: [[Hurricane Hugo]] slams [[South Carolina]].', '* [[September 21]] {{ndash}} [[1991]]: [[Armenia]] regains its independence from the [[Soviet Union]].', '* [[September 22]] {{ndash}} [[1908]]: [[Bulgaria]]n independence is recognised.', '* [[September 22]] {{ndash}} [[1960]]: [[Mali]] becomes independent.', '* [[September 23]] {{ndash}} [[63 BC]]: Roman Emperor [[Augustus Caesar]] is born.', '* [[September 23]] {{ndash}} [[1932]]: The [[Kingdom]] of [[Saudi Arabia]] is formed.', '* [[September 23]] {{ndash}} [[2009]]: A major dust [[storm]] affects southeastern [[Australia]], including [[Sydney]].', '* [[September 24]] {{ndash}} [[1853]]: [[France]] takes control of [[New Caledonia]].', '* [[September 24]] {{ndash}} [[1973]]: [[Guinea-Bissau]] declares independence from [[Portugal]].', '* [[September 26]] {{ndash}} [[1907]]: [[New Zealand]] and [[Newfoundland]] are given Dominion status within the [[British Empire]].', '* [[September 27]] {{ndash}} [[1821]]: [[Mexico]] gains independence from [[Spain]].', '* [[September 27]] {{ndash}} [[1905]]: The equation E=mc [[Square (mathematics)|squared]] is introduced.', '* [[September 28]] {{ndash}} [[1978]]: [[Pope John Paul I]] dies just 33 days after being elected.', '* [[September 28]] {{ndash}} [[1994]]: The car and passenger [[ferry]] [[Estonia]] sinks during stormy weather in the [[Baltic Sea]].', \"* [[September 29]] {{ndash}} [[1829]]: [[London]]'s [[Metropolitan Police]] Force is founded.\", '* [[September 29]] {{ndash}} [[1990]]: [[Washington National Cathedral]] is completed.', '* [[September 29]] {{ndash}} [[2009]]: An [[earthquake]] and [[tsunami]]s off [[Samoa]], [[American Samoa]] and [[Tonga]] kill 189 people.', '* [[September 30]] {{ndash}} [[1938]]: The [[Munich]] Pact is signed.', '* [[September 30]] {{ndash}} [[1955]]: American film star [[James Dean]] dies aged 24 in a car crash.', '* [[September 30]] {{ndash}} [[1966]]: Bechuanaland becomes independent from the [[UK]] and changes its name to [[Botswana]].', '* [[September 30]] {{ndash}} [[2009]]: A strong [[earthquake]] off western [[Sumatra]] kills over 1,000 people.']\n",
      "[' PUNCT NOUN NUM PUNCT PUNCT NOUN PUNCT PUNCT NUM PUNCT DET NOUN ADP NOUN NOUN ADP NOUN VERB ADP PRON NOUN ADP NUM NOUN ADP DET NOUN PUNCT', ' PUNCT NOUN NUM PUNCT PUNCT NOUN PUNCT PUNCT NUM PUNCT NOUN PUNCT DET ADJ NOUN NOUN PUNCT VERB PUNCT VERB PRON NOUN ADJ PUNCT', ' PUNCT NOUN NUM PUNCT PUNCT NOUN PUNCT PUNCT NUM PUNCT NOUN NOUN NOUN NOUN PUNCT VERB NOUN NOUN NOUN PUNCT', ' PUNCT NOUN NUM PUNCT PUNCT NOUN PUNCT PUNCT NUM PUNCT NOUN NOUN PUNCT NOUN VERB NOUN ADP NOUN PUNCT ADP DET NOUN PUNCT', ' PUNCT NOUN NUM PUNCT PUNCT NOUN PUNCT PUNCT NUM PUNCT NOUN NOUN NOUN NOUN AUX VERB ADP ADP DET ADJ NOUN NOUN PUNCT ADP NOUN NOUN PUNCT VERB DET NUM ADP NOUN PUNCT', ' PUNCT NOUN NUM PUNCT PUNCT NOUN PUNCT PUNCT NUM PUNCT NOUN VERB ADJ ADP DET NOUN NOUN PUNCT', ' PUNCT NOUN NUM PUNCT PUNCT NOUN PUNCT PUNCT NUM PUNCT NOUN PUNCT DET ADJ ADJ NOUN PUNCT AUX VERB PUNCT', ' PUNCT NOUN NUM PUNCT PUNCT NOUN PUNCT PUNCT NUM PUNCT NOUN VERB DET ADJ NOUN ADP DET NOUN ADP NOUN NOUN NOUN PUNCT', ' PUNCT NOUN NUM PUNCT PUNCT NOUN PUNCT PUNCT NUM PUNCT NOUN VERB ADJ PUNCT ADP NOUN NOUN NOUN ADP NOUN PUNCT', ' PUNCT NOUN NUM PUNCT PUNCT NOUN PUNCT PUNCT NUM PUNCT NOUN NOUN AUX VERB PUNCT', ' PUNCT NOUN NUM PUNCT PUNCT NOUN PUNCT PUNCT NUM PUNCT DET NOUN NOUN CCONJ NOUN VERB NOUN ADP NOUN PUNCT VERB PRON NOUN ADP NOUN PUNCT', ' PUNCT NOUN NUM PUNCT PUNCT NOUN PUNCT PUNCT NUM PUNCT NOUN NOUN VERB DET ADJ NOUN NUM NOUN NOUN PUNCT', ' PUNCT NOUN NUM PUNCT PUNCT NOUN PUNCT PUNCT NUM PUNCT NOUN NOUN ADP NOUN AUX VERB ADP DET NOUN ADP DET NOUN PUNCT', ' PUNCT NOUN NUM PUNCT PUNCT NOUN PUNCT PUNCT NUM PUNCT NOUN VERB ADJ PUNCT', ' PUNCT NOUN NUM PUNCT PUNCT NOUN PUNCT PUNCT NUM PUNCT ADJ NOUN ADP DET ADJ ADJ NOUN AUX VERB ADP DET NUM NOUN NOUN ADP NOUN PUNCT PRON AUX VERB DET ADJ NOUN PUNCT', ' PUNCT NOUN NUM PUNCT PUNCT NOUN PUNCT PUNCT NUM PUNCT NOUN NOUN NOUN NOUN AUX VERB ADP NOUN NOUN PUNCT VERB ADP PRON NOUN ADV PUNCT', ' PUNCT NOUN NUM PUNCT PUNCT NOUN PUNCT PUNCT NUM PUNCT NOUN VERB ADJ PUNCT', ' PUNCT NOUN NUM PUNCT PUNCT NOUN PUNCT PUNCT NUM PUNCT DET NOUN ADP NOUN PUNCT NOUN ADP NOUN VERB NOUN ADP NOUN PUNCT', ' PUNCT NOUN NUM PUNCT PUNCT NOUN PUNCT PUNCT NUM PUNCT NOUN NOUN PRON ADP NOUN AUX VERB PUNCT', ' PUNCT NOUN NUM PUNCT PUNCT NOUN PUNCT PUNCT NUM PUNCT NOUN VERB NOUN ADP NOUN', ' PUNCT NOUN NUM PUNCT PUNCT NOUN PUNCT PUNCT NUM PUNCT DET NOUN NOUN NOUN NOUN ADP NOUN VERB PUNCT', ' PUNCT NOUN NUM PUNCT PUNCT NOUN PUNCT PUNCT NUM PUNCT DET NOUN ADP DET ADJ NOUN NOUN NOUN NOUN NOUN AUX VERB ADP DET NOUN NOUN PUNCT', ' PUNCT NOUN NUM PUNCT PUNCT NOUN PUNCT PUNCT NUM PUNCT NOUN NOUN NOUN NOUN NOUN VERB DET VERB NOUN ADP NOUN ADP NOUN NOUN NOUN PUNCT', ' PUNCT NOUN NUM PUNCT PUNCT NOUN PUNCT PUNCT NUM PUNCT DET NOUN ADP NOUN VERB NOUN ADP NOUN PUNCT', ' PUNCT NOUN NUM PUNCT PUNCT NOUN PUNCT PUNCT NUM PUNCT NOUN VERB DET ADJ NOUN ADP DET NOUN PUNCT', ' PUNCT NOUN NUM PUNCT PUNCT NOUN PUNCT PUNCT NUM PUNCT NOUN VERB ADJ ADP DET NOUN NOUN PUNCT', ' PUNCT NOUN NUM PUNCT PUNCT NOUN PUNCT PUNCT NUM PUNCT NOUN ADP NOUN PUNCT NOUN ADP NOUN AUX VERB ADP NOUN ADP ADJ NOUN NOUN NOUN ADP NOUN NOUN PUNCT NOUN PUNCT', ' PUNCT NOUN NUM PUNCT PUNCT NOUN PUNCT PUNCT NUM PUNCT NOUN PUNCT NOUN ADV VERB ADJ PUNCT', ' PUNCT NOUN NUM PUNCT PUNCT NOUN PUNCT PUNCT NUM PUNCT NOUN ADP NOUN VERB DET NOUN NOUN NOUN ADP ADP DET ADJ NOUN PUNCT', ' PUNCT NOUN NUM PUNCT PUNCT NOUN PUNCT PUNCT NUM PUNCT NOUN NOUN VERB NOUN ADP DET ADJ NOUN ADP NOUN PUNCT NOUN NOUN NOUN VERB ADP DET NOUN PUNCT', ' PUNCT NOUN NUM PUNCT PUNCT NOUN PUNCT PUNCT NUM PUNCT NOUN ADP NOUN VERB DET NOUN ADP DET ADJ NOUN NOUN PUNCT', ' PUNCT NOUN NUM PUNCT PUNCT NOUN PUNCT PUNCT NUM PUNCT DET NOUN NUM NOUN VERB PUNCT SCONJ ADJ NOUN VERB NOUN ADP DET NOUN NOUN NOUN ADP NOUN NOUN NOUN CCONJ DET NOUN PUNCT', ' PUNCT NOUN NUM PUNCT PUNCT NOUN PUNCT PUNCT NUM PUNCT NOUN ADJ ADJ NOUN NOUN NOUN VERB ADP NOUN NOUN PUNCT', ' PUNCT NOUN NUM PUNCT PUNCT NOUN PUNCT PUNCT NUM PUNCT NOUN ADP DET NOUN ADP NOUN PUNCT ADJ NOUN VERB ADJ NOUN ADP NOUN NOUN ADP DET NOUN NOUN PART NOUN PUNCT', ' PUNCT NOUN NUM PUNCT PUNCT NOUN PUNCT PUNCT NUM PUNCT NOUN NOUN VERB ADP DET ADJ NOUN ADP DET ADJ NOUN PUNCT', ' PUNCT NOUN NUM PUNCT PUNCT NOUN PUNCT PUNCT NUM PUNCT NOUN NOUN VERB ADP DET NOUN NOUN DET ADJ NOUN PUNCT', ' PUNCT NOUN NUM PUNCT PUNCT NOUN PUNCT PUNCT NUM PUNCT NOUN NOUN PUNCT NOUN NOUN PUNCT NOUN PUNCT NOUN CCONJ NOUN VERB NOUN ADP NOUN PUNCT', ' PUNCT NOUN NUM PUNCT PUNCT NOUN PUNCT PUNCT NUM PUNCT NOUN VERB NOUN ADP NOUN PUNCT', ' PUNCT NOUN NUM PUNCT PUNCT NOUN PUNCT PUNCT NUM PUNCT NOUN NOUN NOUN VERB ADJ ADP NOUN PUNCT', ' PUNCT NOUN NUM PUNCT PUNCT NOUN PUNCT PUNCT NUM PUNCT DET NOUN NOUN NOUN AUX VERB ADP NOUN PUNCT NOUN PUNCT', ' PUNCT NOUN NUM PUNCT PUNCT NOUN PUNCT PUNCT NUM PUNCT DET NOUN NOUN NOUN NOUN VERB ADP NOUN NOUN NOUN PUNCT', ' PUNCT NOUN NUM PUNCT PUNCT NOUN PUNCT PUNCT NUM PUNCT NOUN VERB NOUN PUNCT', ' PUNCT NOUN NUM PUNCT PUNCT NOUN PUNCT PUNCT NUM PUNCT NOUN NOUN NOUN VERB ADP NOUN PUNCT ADJ NUM PUNCT', ' PUNCT NOUN NUM PUNCT PUNCT NOUN PUNCT PUNCT NUM PUNCT NOUN NOUN CCONJ NOUN VERB ADJ PUNCT', ' PUNCT NOUN NUM PUNCT PUNCT NOUN PUNCT PUNCT NUM PUNCT ADJ CCONJ NOUN NOUN AUX VERB ADP DET ADJ NOUN PUNCT NOUN NOUN AUX ADP DET NOUN VERB PUNCT', ' PUNCT NOUN NUM PUNCT PUNCT NOUN PUNCT PUNCT NUM PUNCT NOUN VERB NOUN ADP DET NOUN PUNCT', ' PUNCT NOUN NUM PUNCT PUNCT NOUN PUNCT PUNCT NUM PUNCT VERB VERB NOUN ADP DET NOUN PUNCT', ' PUNCT NOUN NUM PUNCT PUNCT NOUN PUNCT PUNCT NUM PUNCT NOUN NOUN VERB NOUN NOUN PUNCT', ' PUNCT NOUN NUM PUNCT PUNCT NOUN PUNCT PUNCT NUM PUNCT NOUN VERB PRON NOUN ADP DET NOUN NOUN PUNCT', ' PUNCT NOUN NUM PUNCT PUNCT NOUN PUNCT PUNCT NUM PUNCT ADJ NOUN AUX VERB PUNCT', ' PUNCT NOUN NUM PUNCT PUNCT NOUN PUNCT PUNCT NUM PUNCT NOUN VERB ADJ PUNCT', ' PUNCT NOUN NUM PUNCT PUNCT NOUN PUNCT PUNCT NUM NOUN PUNCT ADJ NOUN NOUN NOUN AUX VERB PUNCT', ' PUNCT NOUN NUM PUNCT PUNCT NOUN PUNCT PUNCT NUM PUNCT DET NOUN ADP NOUN NOUN AUX VERB PUNCT', ' PUNCT NOUN NUM PUNCT PUNCT NOUN PUNCT PUNCT NUM PUNCT DET ADJ NOUN NOUN VERB ADJ NOUN PUNCT VERB NOUN PUNCT', ' PUNCT NOUN NUM PUNCT PUNCT NOUN PUNCT PUNCT NUM PUNCT NOUN VERB NOUN ADP NOUN NOUN PUNCT', ' PUNCT NOUN NUM PUNCT PUNCT NOUN PUNCT PUNCT NUM PUNCT NOUN PUNCT NOUN VERB NOUN ADP NOUN PUNCT', ' PUNCT NOUN NUM PUNCT PUNCT NOUN PUNCT PUNCT NUM PUNCT NOUN NOUN CCONJ NOUN AUX VERB NOUN NOUN ADP DET NOUN NOUN PUNCT', ' PUNCT NOUN NUM PUNCT PUNCT NOUN PUNCT PUNCT NUM PUNCT NOUN VERB NOUN ADP NOUN PUNCT', ' PUNCT NOUN NUM PUNCT PUNCT NOUN PUNCT PUNCT NUM PUNCT DET NOUN NOUN NOUN NOUN VERB AUX VERB PUNCT', ' PUNCT NOUN NUM PUNCT PUNCT NOUN PUNCT PUNCT NUM PUNCT NOUN NOUN NOUN PRON VERB ADV NUM NOUN ADP AUX VERB PUNCT', ' PUNCT NOUN NUM PUNCT PUNCT NOUN PUNCT PUNCT NUM PUNCT DET NOUN CCONJ NOUN NOUN NOUN VERB ADP ADJ NOUN ADP DET NOUN NOUN PUNCT', ' PUNCT NOUN NUM PUNCT PUNCT NOUN PUNCT PUNCT NUM PUNCT NOUN PART NOUN NOUN NOUN AUX VERB PUNCT', ' PUNCT NOUN NUM PUNCT PUNCT NOUN PUNCT PUNCT NUM PUNCT NOUN NOUN NOUN AUX VERB PUNCT', ' PUNCT NOUN NUM PUNCT PUNCT NOUN PUNCT PUNCT NUM PUNCT DET NOUN CCONJ VERB ADP NOUN PUNCT NOUN NOUN CCONJ NOUN VERB NUM NOUN PUNCT', ' PUNCT NOUN NUM PUNCT PUNCT NOUN PUNCT PUNCT NUM PUNCT DET NOUN NOUN AUX VERB PUNCT', ' PUNCT NOUN NUM PUNCT PUNCT NOUN PUNCT PUNCT NUM PUNCT ADJ NOUN NOUN NOUN NOUN VERB VERB NUM ADP DET NOUN NOUN PUNCT', ' PUNCT NOUN NUM PUNCT PUNCT NOUN PUNCT PUNCT NUM PUNCT NOUN VERB ADJ ADP DET NOUN CCONJ VERB PRON NOUN ADP NOUN PUNCT', ' PUNCT NOUN NUM PUNCT PUNCT NOUN PUNCT PUNCT NUM PUNCT DET ADJ NOUN ADP ADJ NOUN VERB ADP NUM NOUN PUNCT']\n",
      "[None, ' PUNCT NOUN NUM PUNCT PUNCT NOUN PUNCT PUNCT NUM ', None, 'PUNCT ', None, 'NOUN ', None, 'UN', None]\n",
      "----------------------\n",
      "['* 21: twenty-one', '* 29: twenty-nine', '* 64: sixty-four', '* 99: ninety-nine']\n",
      "[' PUNCT NUM PUNCT NUM PUNCT NUM', ' PUNCT NUM PUNCT NUM PUNCT NUM', ' PUNCT NUM PUNCT NUM PUNCT NUM', ' PUNCT NUM PUNCT NUM PUNCT NUM']\n",
      "[None, ' PUNCT NUM PUNCT NUM PUNCT NUM', None]\n",
      "----------------------\n",
      "['* [[Carleton University]]', '* [[McGill University]]', '* [[McMaster University]]', \"* [[Queen's University]]\", '* [[University of British Columbia]]', '* University of New Brunswick', '* [[University of Ottawa]]', '* [[University of Toronto]]', '* [[University of Waterloo]]', '* [[University of Western Ontario]]']\n",
      "[' PUNCT NOUN NOUN', ' PUNCT NOUN NOUN', ' PUNCT NOUN NOUN', ' PUNCT NOUN PART NOUN', ' PUNCT NOUN ADP NOUN NOUN', ' PUNCT NOUN ADP NOUN NOUN', ' PUNCT NOUN ADP NOUN', ' PUNCT NOUN ADP NOUN', ' PUNCT NOUN ADP NOUN', ' PUNCT NOUN ADP NOUN NOUN']\n",
      "[None, ' PUNCT NOUN ', None, 'NOUN', None]\n",
      "----------------------\n",
      "['* Engineering Geology', '* Geostatistics', '* [[Geodesy]]']\n",
      "[' PUNCT NOUN NOUN', ' PUNCT NOUN', ' PUNCT NOUN']\n",
      "[None, ' PUNCT NOUN', None]\n",
      "----------------------\n",
      "['\"*At work, generally [[engineering]], when dealing with certain [[material]]s or [[wikt:object|objects]], an \"\"application\"\" is a [[wikt:purpose|purpose]] that material or object can be used for. [[Wood]] and [[steel]] have many applications.', '*Application is application!\"']\n",
      "[' PUNCT NOUN ADP NOUN PUNCT ADV ADJ PUNCT SCONJ VERB ADP ADJ NOUN CCONJ NOUN PUNCT DET PUNCT PUNCT NOUN PUNCT PUNCT AUX DET NOUN SCONJ NOUN CCONJ NOUN AUX AUX VERB ADP PUNCT NOUN CCONJ NOUN VERB ADJ NOUN PUNCT', ' PUNCT NOUN AUX NOUN PUNCT PUNCT']\n",
      "[None, ' PUNCT NOUN A', None, ' NOUN PUNCT PUNCT', None]\n",
      "----------------------\n",
      "['\"* I \\'\\'\\'\\'jump\\'\\'\\'\\' up and down.', \"* That '''is''' John.\", \"* I '''beat ''' my friend.\", \"* They '''are running''' .\", \"* '''Go''' there on Monday.\", '* He \\'\\'\\'said\\'\\'\\', \"\"Hello!\"\".', \"* '''Can''' she '''play''' the piano?\", \"* The sleeping baby '''looks''' beautiful.\", '* She \\'\\'\\'saw\\'\\'\\' the girl who \\'\\'\\'had been bitten\\'\\'\\' by the dog.}}\"']\n",
      "[' PUNCT PUNCT PRON PUNCT AUX VERB NOUN PUNCT PUNCT PUNCT ADV CCONJ ADV PUNCT', ' PUNCT SCONJ PUNCT VERB AUX PUNCT PUNCT NOUN PUNCT', ' PUNCT PRON PUNCT AUX VERB PUNCT PUNCT PRON NOUN PUNCT', ' PUNCT PRON PUNCT AUX AUX VERB PUNCT PUNCT PUNCT', ' PUNCT PUNCT PUNCT VERB PUNCT PUNCT ADV ADP NOUN PUNCT', ' PUNCT PRON PUNCT VERB VERB PUNCT PUNCT PUNCT PUNCT PUNCT INTJ PUNCT PUNCT PUNCT PUNCT', ' PUNCT PUNCT VERB AUX PUNCT PUNCT PRON PUNCT VERB VERB PUNCT PUNCT DET NOUN PUNCT', ' PUNCT DET NOUN NOUN PUNCT VERB NOUN PUNCT PUNCT ADJ PUNCT', ' PUNCT PRON PUNCT VERB VERB PUNCT PUNCT DET NOUN PRON PUNCT AUX AUX AUX VERB PUNCT PUNCT ADP DET NOUN PUNCT PUNCT PUNCT PUNCT']\n",
      "[None, ' PUNCT ', None, 'PUNCT ', None, 'VERB', None, ' PUNCT PUNCT ', None, 'PUNCT', None]\n",
      "----------------------\n",
      "['\"* [http://www.un.int/nauru/ Nauru, Permanent Mission to the United Nations]', '* [https://web.archive.org/web/20110607064452/http://www.adb.org/Documents/CERs/NAU/CER-NAU-2007.pdf Asian Development Bank Country Economic Report, Nauru, November 2007]', '* [http://www.ourairline.com.au/ Our Airline] - the former Air Nauru', '* [http://www.discovernauru.com Discover Nauru] The Official Nauru Tourism Website', '* [http://cenpac.net.nr CenPac] - The ISP of the Republic of Nauru', '* [http://www.thislife.org/Radio_Episode.aspx?episode=253 Radio program \"\"This American Life\"\" featured a 30-minute story on Nauru]', '* {{dmoz|Regional/Oceania/Nauru|Nauru}}', '* [https://maps.google.com/?t=h&ie=UTF8&om=1&ll=-0.528624,166.938715&spn=0.061538,0.080338&z=14 High resolution aerial views of Nauru on Google Maps]', '* [http://globaledge.msu.edu/countryInsights/country.asp?countryID=208 Nauru country information on globalEDGE] {{Webarchive|url=https://web.archive.org/web/20071024161246/http://globaledge.msu.edu/countryinsights/country.asp?countryID=208 |date=2007-10-24 }}\"']\n",
      "[' PUNCT PUNCT NOUN NOUN PUNCT NOUN NOUN ADP DET NOUN NOUN', ' PUNCT NOUN NOUN NOUN NOUN NOUN NOUN NOUN PUNCT NOUN PUNCT NOUN NUM', ' PUNCT NOUN PRON NOUN PUNCT DET ADJ NOUN NOUN', ' PUNCT X VERB NOUN DET NOUN NOUN NOUN NOUN', ' PUNCT VERB NOUN PUNCT DET NOUN ADP DET NOUN ADP NOUN', ' PUNCT NUM NOUN NOUN PUNCT PUNCT DET ADJ NOUN PUNCT PUNCT VERB DET NUM PUNCT NOUN NOUN ADP NOUN', ' PUNCT PUNCT PUNCT NOUN NOUN NOUN SYM NOUN PUNCT PUNCT', ' PUNCT NOUN ADJ NOUN ADJ NOUN ADP NOUN ADP NOUN NOUN', ' PUNCT NOUN NOUN NOUN NOUN ADP NOUN PUNCT PUNCT NOUN SYM NOUN SYM NOUN SYM NOUN SYM NOUN SYM PUNCT NOUN PUNCT NUM SYM NUM PUNCT PUNCT PUNCT']\n",
      "[None, ' PUNCT ', None, ' NOUN ', None]\n",
      "----------------------\n",
      "[\"* [[Zeno's paradoxes]] of [[motion (physics)|motion]]\", \"* [[Simpson's paradox]] in [[statistics]]\", '* [[Grandfather paradox]]', '*[[Banach–Tarski paradox]]']\n",
      "[' PUNCT NOUN PART NOUN ADP NOUN', ' PUNCT NOUN PART NOUN ADP NOUN', ' PUNCT NOUN NOUN', ' PUNCT NOUN PUNCT NOUN NOUN']\n",
      "[None, ' PUNCT NOUN ', None, 'NOUN', None]\n",
      "----------------------\n",
      "['\"* [[August 1]] {{ndash}} [[1291]]: Traditional founding date of [[Switzerland]].', '* [[August 1]] {{ndash}} [[1914]]: [[World War I]] begins.', '* [[August 1]] {{ndash}} [[1944]]: [[Anne Frank]] makes the last entry in her diary.', '* [[August 1]] {{ndash}} [[1960]]: [[Dahomey]] (now called [[Benin]]) becomes independent.', '* [[August 2]] {{ndash}} [[1990]]: [[Iraq]] invades [[Kuwait]].', '* [[August 3]] {{ndash}} [[1492]]: [[Christopher Columbus]] sets sail on his first voyage.', '* [[August 3]] {{ndash}} [[1960]]: [[Niger]] becomes independent.', '* [[August 4]] {{ndash}} [[1944]]: [[Anne Frank]] and her family are captured by the [[Gestapo]] in [[Amsterdam]].', \"* [[August 4]] {{ndash}} [[1984]]: [[Upper Volta]]'s name is changed to [[Burkina Faso]].\", '* [[August 5]] {{ndash}} [[1960]]: [[Upper Volta]] becomes independent.', '* [[August 5]] {{ndash}} [[1962]]: Film actress [[Marilyn Monroe]] is found dead at her home.', '* [[August 6]] {{ndash}} [[1825]]: [[Bolivia]]n independence.', '* [[August 6]] {{ndash}} [[1945]]: The Atomic Bomb is dropped on [[Hiroshima]].', '* [[August 6]] {{ndash}} [[1962]]: [[Jamaica]] becomes independent.', '* [[August 7]] {{ndash}} [[1960]]: [[Ivory Coast]] becomes independent.', '* [[August 9]] {{ndash}} [[1945]]: The Atomic Bomb is dropped on [[Nagasaki]].', '* [[August 9]] {{ndash}} [[1965]]: [[Singapore]] becomes independent.', '* [[August 9]] {{ndash}} [[1974]]: US President [[Richard Nixon]] resigns following the [[Watergate scandal]], with [[Gerald Ford]] replacing him.', '* [[August 10]] {{ndash}} [[1792]]: Storming of the Tuileries Palace during the [[French Revolution]]', '* [[August 10]] {{ndash}} [[1809]]: Beginning of [[Ecuador]]ean independence movement.', '* [[August 11]] {{ndash}} [[1960]]: [[Chad]] becomes independent.', '* [[August 13]] {{ndash}} [[1960]]: The [[Central African Republic]] becomes independent.', '* [[August 13]] {{ndash}} [[1961]]: Building of the [[Berlin Wall]] begins.', '* [[August 14]] {{ndash}} [[1945]]: [[Japan]] announces its surrender at the end of [[World War II]].', '* [[August 14]]/[[August 15|15]] {{ndash}} [[1947]]: [[India]] is partitioned at independence from the UK, as the new mainly [[Islam]]ic state of [[Pakistan]] is created.', '* [[August 15]] {{ndash}} [[1960]]: The [[Republic of the Congo]] becomes independent.', '* [[August 15]] {{ndash}} [[1971]]: [[Bahrain]] becomes independent.', '* [[August 16]] {{ndash}} [[1977]]: [[Elvis Presley]] dies aged 42, leading to a worldwide outpouring of grief.', '* [[August 17]] {{ndash}} [[1945]]: [[Indonesia]] declares independence from the [[Netherlands]].', '* [[August 17]] {{ndash}} [[1960]]: [[Gabon]] becomes independent.', '* [[August 17]] {{ndash}} [[1962]]: [[Peter Fechter]] becomes the first person to be shot dead at the [[Berlin Wall]].', '* [[August 19]] {{ndash}} [[43 BC]]: [[Augustus]] becomes [[Roman consul]].', '* [[August 19]] {{ndash}} [[14]]: [[Augustus]] dies.', '* [[August 19]] {{ndash}} [[1919]]: [[Afghanistan]] becomes independent.', '* [[August 19]] {{ndash}} [[1991]]: The August Coup against [[Mikhail Gorbachev]], in the [[Soviet Union]], begins.', '* [[August 20]] {{ndash}} [[1940]]: [[Leon Trotsky]] is fatally wounded with an ice pick in [[Mexico]].', '* [[August 20]] {{ndash}} [[1968]]: The [[Prague]] Spring uprising is crushed.', '* [[August 20]] {{ndash}} [[1991]]: [[Estonia]] regains its independence from the [[Soviet Union]].', '* [[August 21]] {{ndash}} [[1959]]: [[Hawaii]] becomes the 50th State of the [[US]].', '* [[August 24]] {{ndash}} [[79]]: [[Vesuvius]] erupts, destroying [[Pompeii]] and neighbouring [[Herculaneum]].', '* [[August 24]] {{ndash}} [[1991]]: [[Ukraine]] regains independence from the [[Soviet Union]].', '* [[August 25]] {{ndash}} [[1825]]: [[Uruguay]] declares independence from [[Brazil]].', '* [[August 27]] {{ndash}} [[1883]]: [[Krakatoa]], in the Sunda Strait between [[Sumatra]] and [[Java]], explodes, after a very violent eruption.', '* [[August 27]] {{ndash}} [[1991]]: [[Moldova]] becomes independent from the [[Soviet Union]].', '* [[August 28]] {{ndash}} [[1963]]: The [[March on Washington for Jobs and Freedom]] takes place, where [[Martin Luther King, Jr.]] makes his \"\"I Have a Dream\"\" speech for Civil Rights in the [[United States]].', '* [[August 29]] {{ndash}} [[2005]]: [[Hurricane Katrina]] wreaks devastation in [[Alabama]], [[Mississippi]] and [[Louisiana]]. [[New Orleans]] is flooded.', '* [[August 31]] {{ndash}} [[1957]]: [[Malaysia]], then the [[Malaysia|Federation of Malaya]], becomes independent.', '* [[August 31]] {{ndash}} [[1962]]: [[Trinidad and Tobago]] becomes independent.', '* [[August 31]] {{ndash}} [[1991]]: [[Kyrgyzstan]] becomes independent.', '* [[August 31]] {{ndash}} [[1997]]: [[Diana, Princess of Wales]] is killed in a car crash in [[Paris]], leading to a big outpouring of grief.\"']\n",
      "[' PUNCT NOUN NOUN NUM PUNCT PUNCT NOUN PUNCT PUNCT NUM PUNCT ADJ VERB NOUN ADP NOUN PUNCT', ' PUNCT NOUN NUM PUNCT PUNCT NOUN PUNCT PUNCT NUM PUNCT NOUN NOUN PRON VERB PUNCT', ' PUNCT NOUN NUM PUNCT PUNCT NOUN PUNCT PUNCT NUM PUNCT NOUN NOUN VERB DET ADJ NOUN ADP PRON NOUN PUNCT', ' PUNCT NOUN NUM PUNCT PUNCT NOUN PUNCT PUNCT NUM PUNCT NOUN ADV VERB NOUN VERB ADJ PUNCT', ' PUNCT NOUN NUM PUNCT PUNCT NOUN PUNCT PUNCT NUM PUNCT NOUN VERB NOUN PUNCT', ' PUNCT NOUN NUM PUNCT PUNCT NOUN PUNCT PUNCT NUM PUNCT NOUN NOUN VERB NOUN ADP PRON ADJ NOUN PUNCT', ' PUNCT NOUN NUM PUNCT PUNCT NOUN PUNCT PUNCT NUM PUNCT NOUN VERB ADJ PUNCT', ' PUNCT NOUN NUM PUNCT PUNCT NOUN PUNCT PUNCT NUM PUNCT NOUN NOUN CCONJ PRON NOUN AUX VERB ADP DET NOUN ADP NOUN PUNCT', ' PUNCT NOUN NUM PUNCT PUNCT NOUN PUNCT PUNCT NUM PUNCT NOUN NOUN PART NOUN AUX VERB ADP NOUN NOUN PUNCT', ' PUNCT NOUN NUM PUNCT PUNCT NOUN PUNCT PUNCT NUM PUNCT NOUN NOUN VERB ADJ PUNCT', ' PUNCT NOUN NUM PUNCT PUNCT NOUN PUNCT PUNCT NUM PUNCT NOUN NOUN NOUN NOUN AUX VERB ADJ ADP PRON NOUN PUNCT', ' PUNCT NOUN NUM PUNCT PUNCT NOUN PUNCT PUNCT NUM PUNCT ADJ NOUN PUNCT', ' PUNCT NOUN NUM PUNCT PUNCT NOUN PUNCT PUNCT NUM PUNCT DET NOUN NOUN AUX VERB ADP NOUN PUNCT', ' PUNCT NOUN NUM PUNCT PUNCT NOUN PUNCT PUNCT NUM PUNCT NOUN VERB ADJ PUNCT', ' PUNCT NOUN NUM PUNCT PUNCT NOUN PUNCT PUNCT NUM PUNCT NOUN NOUN VERB ADJ PUNCT', ' PUNCT NOUN NUM PUNCT PUNCT NOUN PUNCT PUNCT NUM PUNCT DET NOUN NOUN AUX VERB ADP NOUN PUNCT', ' PUNCT NOUN NUM PUNCT PUNCT NOUN PUNCT PUNCT NUM PUNCT NOUN VERB ADJ PUNCT', ' PUNCT NOUN NUM PUNCT PUNCT NOUN PUNCT PUNCT NUM PUNCT NOUN NOUN NOUN NOUN VERB VERB DET NOUN NOUN PUNCT ADP NOUN NOUN VERB PRON PUNCT', ' PUNCT NOUN NUM PUNCT PUNCT NOUN PUNCT PUNCT NUM PUNCT NOUN ADP DET NOUN NOUN ADP DET NOUN NOUN', ' PUNCT NOUN NUM PUNCT PUNCT NOUN PUNCT PUNCT NUM PUNCT VERB ADP ADJ NOUN NOUN PUNCT', ' PUNCT NOUN NUM PUNCT PUNCT NOUN PUNCT PUNCT NUM PUNCT NOUN VERB ADJ PUNCT', ' PUNCT NOUN NUM PUNCT PUNCT NOUN PUNCT PUNCT NUM PUNCT DET NOUN NOUN NOUN VERB ADJ PUNCT', ' PUNCT NOUN NUM PUNCT PUNCT NOUN PUNCT PUNCT NUM PUNCT NOUN ADP DET NOUN NOUN VERB PUNCT', ' PUNCT NOUN NUM PUNCT PUNCT NOUN PUNCT PUNCT NUM PUNCT NOUN VERB PRON NOUN ADP DET NOUN ADP NOUN NOUN NOUN PUNCT', ' PUNCT NOUN NUM PUNCT PUNCT NOUN PUNCT PUNCT NUM PUNCT NOUN AUX VERB ADP NOUN ADP DET NOUN PUNCT SCONJ DET ADJ ADV ADJ NOUN ADP NOUN AUX VERB PUNCT', ' PUNCT NOUN NUM PUNCT PUNCT NOUN PUNCT PUNCT NUM PUNCT DET NOUN ADP DET NOUN VERB ADJ PUNCT', ' PUNCT NOUN NUM PUNCT PUNCT NOUN PUNCT PUNCT NUM PUNCT NOUN VERB ADJ PUNCT', ' PUNCT NOUN NUM PUNCT PUNCT NOUN PUNCT PUNCT NUM PUNCT NOUN NOUN VERB ADJ NUM PUNCT VERB ADP DET ADJ NOUN ADP NOUN PUNCT', ' PUNCT NOUN NUM PUNCT PUNCT NOUN PUNCT PUNCT NUM PUNCT NOUN VERB NOUN ADP DET NOUN PUNCT', ' PUNCT NOUN NUM PUNCT PUNCT NOUN PUNCT PUNCT NUM PUNCT NOUN VERB ADJ PUNCT', ' PUNCT NOUN NUM PUNCT PUNCT NOUN PUNCT PUNCT NUM PUNCT NOUN NOUN VERB DET ADJ NOUN PART AUX VERB ADJ ADP DET NOUN NOUN PUNCT', ' PUNCT NOUN NUM PUNCT PUNCT NOUN PUNCT PUNCT NUM NOUN PUNCT NOUN VERB ADJ NOUN PUNCT', ' PUNCT NOUN NUM PUNCT PUNCT NOUN PUNCT PUNCT NUM PUNCT NOUN VERB PUNCT', ' PUNCT NOUN NUM PUNCT PUNCT NOUN PUNCT PUNCT NUM PUNCT NOUN VERB ADJ PUNCT', ' PUNCT NOUN NUM PUNCT PUNCT NOUN PUNCT PUNCT NUM PUNCT DET NOUN NOUN ADP NOUN NOUN PUNCT ADP DET NOUN NOUN PUNCT VERB PUNCT', ' PUNCT NOUN NUM PUNCT PUNCT NOUN PUNCT PUNCT NUM PUNCT NOUN NOUN AUX ADV VERB ADP DET NOUN NOUN ADP NOUN PUNCT', ' PUNCT NOUN NUM PUNCT PUNCT NOUN PUNCT PUNCT NUM PUNCT DET NOUN NOUN NOUN AUX VERB PUNCT', ' PUNCT NOUN NUM PUNCT PUNCT NOUN PUNCT PUNCT NUM PUNCT NOUN VERB PRON NOUN ADP DET NOUN NOUN PUNCT', ' PUNCT NOUN NUM PUNCT PUNCT NOUN PUNCT PUNCT NUM PUNCT NOUN VERB DET ADJ NOUN ADP DET NOUN PUNCT', ' PUNCT NOUN NUM PUNCT PUNCT NOUN PUNCT PUNCT NUM PUNCT NOUN VERB PUNCT VERB NOUN CCONJ NOUN NOUN PUNCT', ' PUNCT NOUN NUM PUNCT PUNCT NOUN PUNCT PUNCT NUM PUNCT NOUN VERB NOUN ADP DET NOUN NOUN PUNCT', ' PUNCT NOUN NUM PUNCT PUNCT NOUN PUNCT PUNCT NUM PUNCT NOUN VERB NOUN ADP NOUN PUNCT', ' PUNCT NOUN NUM PUNCT PUNCT NOUN PUNCT PUNCT NUM PUNCT NOUN PUNCT ADP DET NOUN NOUN ADP NOUN CCONJ NOUN PUNCT VERB PUNCT ADP DET ADV ADJ NOUN PUNCT', ' PUNCT NOUN NUM PUNCT PUNCT NOUN PUNCT PUNCT NUM PUNCT NOUN VERB ADJ ADP DET NOUN NOUN PUNCT', ' PUNCT NOUN NUM PUNCT PUNCT NOUN PUNCT PUNCT NUM PUNCT DET NOUN ADP NOUN ADP NOUN CCONJ NOUN VERB NOUN PUNCT SCONJ NOUN NOUN NOUN PUNCT NOUN VERB PRON PUNCT PUNCT PRON VERB DET NOUN PUNCT PUNCT NOUN ADP NOUN NOUN ADP DET NOUN NOUN PUNCT', ' PUNCT NOUN NUM PUNCT PUNCT NOUN PUNCT PUNCT NUM PUNCT NOUN NOUN VERB NOUN ADP NOUN PUNCT NOUN CCONJ NOUN PUNCT NOUN NOUN AUX VERB PUNCT', ' PUNCT NOUN NUM PUNCT PUNCT NOUN PUNCT PUNCT NUM PUNCT NOUN PUNCT ADV DET NOUN ADP NOUN PUNCT VERB ADJ PUNCT', ' PUNCT NOUN NUM PUNCT PUNCT NOUN PUNCT PUNCT NUM PUNCT NOUN CCONJ NOUN VERB ADJ PUNCT', ' PUNCT NOUN NUM PUNCT PUNCT NOUN PUNCT PUNCT NUM PUNCT NOUN VERB ADJ PUNCT', ' PUNCT NOUN NUM PUNCT PUNCT NOUN PUNCT PUNCT NUM PUNCT NOUN PUNCT NOUN ADP NOUN AUX VERB ADP DET NOUN NOUN ADP NOUN PUNCT VERB ADP DET ADJ NOUN ADP NOUN PUNCT PUNCT']\n",
      "[None, ' PUNCT', None, ' NOUN NUM PUNCT PUNCT NOUN PUNCT PUNCT NUM ', None, 'PUNCT ', None, 'NOUN ', None, 'UN', None]\n",
      "----------------------\n",
      "[\"* [[January 1]] - [[New Year's Day]]\", '* [[January 1]] - Solemnity of Mary, the Mother of God', '* [[January 1]] - World Day of Peace', '* [[January 1]] - Founding Day ([[Republic of China]])', '* [[January 1]] - Independence Day in [[Brunei]], [[Haiti]] and [[Sudan]]', '* [[January 1]] - Triumph of the Revolution ([[Cuba]])', '* [[January 1]] - [[Constitution]] Day ([[Italy]])', \"* [[January 2]] - [[New Year's Day]] Bank Holiday ([[Scotland]])\", '* [[January 2]] - Ancestry Day ([[Haiti]])', \"* [[January 2]] - Berchtold's Day ([[Switzerland]], [[Liechtenstein]], [[Alsace]]\", '* [[January 3]] - Statehood Day ([[Alaska]])', '* [[January 4]] - Independence Day ([[Burma]])', '* [[January 4]] - Day of the Fallen Against Colonial Repression ([[Angola]])', '* [[January 4]] - Day of the Martyrs ([[Democratic Republic of the Congo]])', '* [[January 5]] - Twelfth Night in Western [[Christianity]] - night to [[January 6]]', '* [[January 6]] - [[Epiphany (holiday)|Epiphany]] in Western Christianity.', '* [[January 6]] - [[Christmas]] in the [[Armenia]]n Apostolic Church', '* [[January 7]] - [[Christmas]] in Eastern Orthodox Christianity.', '* [[January 7]] - Tricolour Day ([[Italy]])', '* [[January 7]] - Victory from Genocide Day ([[Cambodia]])', '* [[January 8]] - Commonwealth Day ([[Northern Mariana Islands]])', \"* [[January 8]] - Celebration of [[Elvis Presley]]'s [[birthday]] at [[Graceland]]\", \"* [[January 8]] - [[Kim Jong-un]]'s [[birthday]] ([[North Korea]])\", \"* [[January 9]] - Martyrs' Day ([[Panama]])\", '* [[January 11]] - Kagami Biraki ([[Japan]])', '* [[January 11]] - Republic Day ([[Albania]])', '* [[January 11]] - Day of National Unity ([[Nepal]])', '* [[January 12]] - Memorial Day ([[Turkmenistan]])', '* [[January 12]] - National Youth Day ([[India]])', '* [[January 12]] - [[Zanzibar]] Revolution Day ([[Tanzania]])', '* [[January 13]] - [[Korea]]n American Day', '* [[January 13]] - Old New Year (parts of [[Eastern Europe]])', \"* [[January 13]] - St. Knut's Day ([[Norway]], [[Finland]], [[Sweden]])\", \"* [[January 14]] - [[New Year's Day]] (Eastern Orothodox Church)\", '* [[January 14]] - National Flag Day in [[Georgia (country)|Georgia]]', '* [[January 14]] - National Forest Conservation Day ([[Thailand]])', '* [[January 15]] - Armed Forces Day ([[Nigeria]])', '* [[January 15]] - Army Day ([[India]])', '* [[January 15]] - Tree Planting Day ([[Egypt]])', \"* [[January 16]] - Teacher's Day ([[Thailand]])\", '* [[January 16]] - Flag Day ([[Israel]])', '* [[January 17]] - Roman Catholic feast day of St. Anthony', '* [[January 18]] - Royal [[Thailand|Thai]] Armed Forces Day', '* [[January 18]] - Revolution Day ([[Tunisia]])', '* [[January 18]] - World [[Religion]] Day', '* [[January 19]] - [[Epiphany (holiday)|Epiphany]] in Eastern Orthodox Christianity', '* [[January 20]] - Armed Forces Day ([[Mali]])', \"* [[January 20]] - Martyrs' Day ([[Azerbaijan]])\", '* [[January 20]] - [[Inauguration Day]] ([[United States]]) - newly elected US president takes office in a year after a [[leap year]] (last in [[2013]], next in [[2017]])', '* [[January 21]] - Flag Day ([[Quebec]])', '* [[January 21]] - Christian feast day of St. Agnes.', '* [[January 22]] - [[Wellington]] Anniversary ([[New Zealand]])', '* [[January 22]] - Reunion Day ([[Ukraine]])', '* [[January 23]] - National [[Pie]] Day ([[United States]])', '* [[January 23]] - Bounty Day ([[Pitcairn Island]])', '* [[January 24]] - Feast Day of Our Lady of Peace ([[Roman Catholicism]])', '* [[January 24]] - Unification Day ([[Romania]])', '* [[January 25]] - [[Burns Night]] ([[Scotland]] and Scottish communities), celebrating the birthday of Scottish [[poet]] [[Robert Burns]]', \"* [[January 25]] - Dydd Santes Dwynwen ([[Wales|Welsh]] equivalent of [[Valentine's Day]])\", '* [[January 25]] - National Voters Day ([[India]])', '* [[January 25]] - Tatiana Day ([[Russia]])', '* [[January 26]] - [[Australia Day]]', '* [[January 26]] - Republic Day ([[India]])', '* [[January 26]] - Duarte Day ([[Dominican Republic]])', '* [[January 26]] - Liberation Day ([[Uganda]])', '* [[January 27]] - [[Holocaust]] Memorial Day', '* [[January 28]] - Army Day ([[Armenia]])', '* [[January 28]] - [[EU]] Data Privacy Day', '* [[January 28]] - Unofficial day commemorating [[Charlemagne]] by some Christians', \"* [[January 30]] - Martyrs' Day ([[India]])\", '* [[January 30]] - School Day of Non-Violence and Peace ([[Spain]])', '* [[January 31]] - Independence Day ([[Nauru]])']\n",
      "[' PUNCT NOUN NUM PUNCT NOUN NOUN PART NOUN', ' PUNCT NOUN NUM PUNCT NOUN ADP NOUN PUNCT DET NOUN ADP NOUN', ' PUNCT NOUN NUM PUNCT NOUN NOUN ADP NOUN', ' PUNCT NOUN NUM PUNCT VERB NOUN NOUN ADP NOUN', ' PUNCT NOUN NUM PUNCT NOUN NOUN ADP NOUN PUNCT NOUN CCONJ NOUN', ' PUNCT NOUN NUM PUNCT NOUN ADP DET NOUN NOUN', ' PUNCT NOUN NUM PUNCT NOUN NOUN NOUN', ' PUNCT NOUN NUM PUNCT NOUN NOUN PART NOUN NOUN NOUN NOUN', ' PUNCT NOUN NUM PUNCT NOUN NOUN NOUN', ' PUNCT NOUN NUM PUNCT NOUN PART NOUN NOUN PUNCT NOUN PUNCT NOUN', ' PUNCT NOUN NUM PUNCT NOUN NOUN NOUN', ' PUNCT NOUN NUM PUNCT NOUN NOUN NOUN', ' PUNCT NOUN NUM PUNCT NOUN ADP DET NOUN ADP NOUN NOUN NOUN', ' PUNCT NOUN NUM PUNCT NOUN ADP DET NOUN NOUN NOUN ADP DET NOUN', ' PUNCT NOUN NUM PUNCT NOUN NOUN ADP NOUN NOUN PUNCT NOUN ADP NOUN NUM', ' PUNCT NOUN NUM PUNCT NOUN ADP NOUN NOUN PUNCT', ' PUNCT NOUN NUM PUNCT NOUN ADP DET NOUN NOUN NOUN', ' PUNCT NOUN NUM PUNCT NOUN ADP NOUN NOUN NOUN PUNCT', ' PUNCT NOUN NUM PUNCT NOUN NOUN NOUN', ' PUNCT NOUN NUM PUNCT NOUN ADP NOUN NOUN NOUN', ' PUNCT NOUN NUM PUNCT NOUN NOUN NOUN NOUN NOUN', ' PUNCT NOUN NUM PUNCT NOUN ADP NOUN NOUN PART NOUN ADP NOUN', ' PUNCT NOUN NUM PUNCT NOUN NOUN PUNCT NOUN PART NOUN NOUN NOUN', ' PUNCT NOUN NUM PUNCT NOUN PART NOUN NOUN', ' PUNCT NOUN NUM PUNCT NOUN NOUN NOUN', ' PUNCT NOUN NUM PUNCT NOUN NOUN NOUN', ' PUNCT NOUN NUM PUNCT NOUN ADP NOUN NOUN NOUN', ' PUNCT NOUN NUM PUNCT NOUN NOUN NOUN', ' PUNCT NOUN NUM PUNCT NOUN NOUN NOUN NOUN', ' PUNCT NOUN NUM PUNCT NOUN NOUN NOUN NOUN', ' PUNCT NOUN NUM PUNCT ADJ NOUN NOUN', ' PUNCT NOUN NUM PUNCT NOUN NOUN NOUN NOUN ADP NOUN NOUN', ' PUNCT NOUN NUM PUNCT NOUN NOUN PART NOUN NOUN PUNCT NOUN PUNCT NOUN', ' PUNCT NOUN NUM PUNCT NOUN NOUN PART NOUN NOUN NOUN NOUN', ' PUNCT NOUN NUM PUNCT NOUN NOUN NOUN ADP NOUN', ' PUNCT NOUN NUM PUNCT NOUN NOUN NOUN NOUN NOUN', ' PUNCT NOUN NUM PUNCT NOUN NOUN NOUN NOUN', ' PUNCT NOUN NUM PUNCT NOUN NOUN NOUN', ' PUNCT NOUN NUM PUNCT NOUN NOUN NOUN NOUN', ' PUNCT NOUN NUM PUNCT NOUN PART NOUN NOUN', ' PUNCT NOUN NUM PUNCT NOUN NOUN NOUN', ' PUNCT NOUN NUM PUNCT ADJ ADJ NOUN NOUN ADP NOUN NOUN', ' PUNCT NOUN NUM PUNCT NOUN NOUN NOUN NOUN NOUN', ' PUNCT NOUN NUM PUNCT NOUN NOUN NOUN', ' PUNCT NOUN NUM PUNCT NOUN NOUN NOUN', ' PUNCT NOUN NUM PUNCT NOUN ADP NOUN NOUN NOUN', ' PUNCT NOUN NUM PUNCT NOUN NOUN NOUN NOUN', ' PUNCT NOUN NUM PUNCT NOUN PART NOUN NOUN', ' PUNCT NOUN NUM PUNCT NOUN NOUN NOUN NOUN PUNCT ADV VERB NOUN NOUN VERB NOUN ADP DET NOUN ADP DET NOUN NOUN ADV ADP NUM PUNCT ADV ADP NUM', ' PUNCT NOUN NUM PUNCT NOUN NOUN NOUN', ' PUNCT NOUN NUM PUNCT ADJ NOUN NOUN ADP NOUN NOUN PUNCT', ' PUNCT NOUN NUM PUNCT NOUN NOUN NOUN NOUN', ' PUNCT NOUN NUM PUNCT NOUN NOUN NOUN', ' PUNCT NOUN NUM PUNCT NOUN NOUN NOUN NOUN NOUN', ' PUNCT NOUN NUM PUNCT NOUN NOUN NOUN NOUN', ' PUNCT NOUN NUM PUNCT NOUN NOUN ADP PRON NOUN ADP NOUN NOUN NOUN', ' PUNCT NOUN NUM PUNCT NOUN NOUN NOUN', ' PUNCT NOUN NUM PUNCT NOUN NOUN NOUN CCONJ ADJ NOUN PUNCT VERB DET NOUN ADP ADJ NOUN NOUN NOUN', ' PUNCT NOUN NUM PUNCT NOUN NOUN NOUN NOUN NOUN ADP NOUN PART NOUN', ' PUNCT NOUN NUM PUNCT NOUN NOUN NOUN NOUN', ' PUNCT NOUN NUM PUNCT NOUN NOUN NOUN', ' PUNCT NOUN NUM PUNCT NOUN NOUN', ' PUNCT NOUN NUM PUNCT NOUN NOUN NOUN', ' PUNCT NOUN NUM PUNCT NOUN NOUN NOUN NOUN', ' PUNCT NOUN NUM PUNCT NOUN NOUN NOUN', ' PUNCT NOUN NUM PUNCT NOUN NOUN NOUN', ' PUNCT NOUN NUM PUNCT NOUN NOUN NOUN', ' PUNCT NOUN NUM PUNCT NOUN NOUN NOUN NOUN', ' PUNCT NOUN NUM PUNCT ADJ NOUN VERB NOUN ADP DET NOUN', ' PUNCT NOUN NUM PUNCT NOUN PART NOUN NOUN', ' PUNCT NOUN NUM PUNCT NOUN NOUN ADP NOUN NOUN NOUN CCONJ NOUN NOUN', ' PUNCT NOUN NUM PUNCT NOUN NOUN NOUN']\n",
      "[None, ' PUNCT NOUN NUM PUNCT ', None, ' NOUN', None]\n",
      "----------------------\n",
      "['* [http://www.thefreedictionary.com TheFreeDictionary]', '* [http://www.ldoceonline.com Longman English Dictionary Online]']\n",
      "[' PUNCT X NOUN', ' PUNCT X NOUN NOUN NOUN NOUN']\n",
      "[None, ' PUNCT X NOUN', None]\n",
      "----------------------\n",
      "['\"* aeroplane is called \"\"airplane\"\"', '* ladybird is called \"\"ladybug\"\"', '* lift is called \"\"elevator\"\"', '* toilet is called \"\"bathroom\"\", \"\"restroom\"\" or \"\"comfort station\"\"', '* lorry is called \"\"truck\"\"', '* nappies are called \"\"diapers\"\"', '* petrol is called \"\"gas\"\" (or \"\"gasoline\"\")', '* the boot of a car is called a \"\"trunk\"\"', '* a dummy is called a \"\"pacifier\"\"', '* trousers are called \"\"pants\"\"', '* underground is called \"\"subway\"\"', '* football is called \"\"soccer\"\"', '* braces are \"\"suspenders\"\" (\"\"suspenders\"\" in British-English are a type of clothing worn around the lower leg by males to stop socks/sox from sagging, and around the upper leg by women wearing stockings)\"']\n",
      "[' PUNCT NOUN NOUN AUX VERB PUNCT PUNCT NOUN PUNCT PUNCT', ' PUNCT NOUN AUX VERB PUNCT PUNCT NOUN PUNCT PUNCT', ' PUNCT NOUN AUX VERB PUNCT PUNCT NOUN PUNCT PUNCT', ' PUNCT NOUN AUX VERB PUNCT PUNCT NOUN PUNCT PUNCT PUNCT PUNCT PUNCT NOUN PUNCT PUNCT CCONJ PUNCT PUNCT NOUN NOUN PUNCT PUNCT', ' PUNCT NOUN AUX VERB PUNCT PUNCT NOUN PUNCT PUNCT', ' PUNCT NOUN AUX VERB PUNCT PUNCT NOUN PUNCT PUNCT', ' PUNCT NOUN AUX VERB PUNCT PUNCT NOUN PUNCT PUNCT CCONJ PUNCT PUNCT NOUN PUNCT PUNCT', ' PUNCT DET NOUN ADP DET NOUN AUX VERB DET PUNCT PUNCT NOUN PUNCT PUNCT', ' PUNCT DET NOUN AUX VERB DET PUNCT PUNCT X PUNCT PUNCT', ' PUNCT NOUN AUX VERB PUNCT PUNCT NOUN PUNCT PUNCT', ' PUNCT ADV AUX VERB PUNCT PUNCT NOUN PUNCT PUNCT', ' PUNCT NOUN AUX VERB PUNCT PUNCT NOUN PUNCT PUNCT', ' PUNCT NOUN AUX PUNCT PUNCT NOUN PUNCT PUNCT PUNCT PUNCT NOUN PUNCT PUNCT ADP NOUN PUNCT NOUN AUX DET NOUN ADP NOUN VERB ADP DET ADJ NOUN ADP NOUN PART VERB NOUN SYM X ADP VERB PUNCT CCONJ ADP DET ADJ NOUN ADP NOUN VERB NOUN PUNCT']\n",
      "[None, ' PUNCT', None, ' AUX', None, ' PUNCT PUNCT ', None, ' PUNCT PUNCT', None]\n",
      "----------------------\n",
      "['*[[Table (furniture)]]', '*[[Table (information)]]', '**[[Periodic table]]', '**[[Lookup table]]']\n",
      "[' PUNCT NOUN NOUN', ' PUNCT NOUN NOUN', ' PUNCT PUNCT ADJ NOUN', ' PUNCT NOUN NOUN NOUN']\n",
      "[None, ' PUNCT ', None, 'UN', None, ' NOUN', None]\n",
      "----------------------\n",
      "[\"* '''Gases''':\", '* {{val|80|3.2|u=%}} [[hydrogen]] ({{chem2|H2}})', '* {{val|19|3.2|u=%}} [[helium]] (He)', '* {{val|1.5|0.5|u=%}} [[methane]] ({{chem2|CH4}})', '* {{nowrap|~0.019% [[hydrogen deuteride]] (HD)}}', '* ~0.00015% [[ethane]] ({{chem2|C2H6}})', \"* '''Ices''':\", '* [[ammonia]] ({{chem2|NH3}})', '* [[water (molecule)|water]] ({{chem2|H2O}})', '* {{nowrap|[[ammonium hydrosulfide]] ({{chem2|NH4SH}})}}', '* {{nowrap|[[methane clathrate|methane ice]] (?) ({{chem2|CH4*5.75H2O}})}}']\n",
      "[' PUNCT PUNCT PUNCT NOUN PUNCT PUNCT PUNCT', ' PUNCT PUNCT PUNCT NOUN PUNCT PUNCT NOUN PUNCT PUNCT NOUN PUNCT PUNCT', ' PUNCT PUNCT PUNCT NOUN PUNCT PUNCT NOUN PRON', ' PUNCT PUNCT PUNCT ADJ PUNCT PUNCT NOUN PUNCT PUNCT NOUN PUNCT PUNCT', ' PUNCT PUNCT PUNCT NOUN NOUN NOUN NOUN NOUN PUNCT PUNCT', ' PUNCT NOUN NOUN NOUN PUNCT PUNCT X PUNCT PUNCT', ' PUNCT PUNCT PUNCT NOUN PUNCT PUNCT PUNCT', ' PUNCT ADJ PUNCT PUNCT NOUN PUNCT PUNCT', ' PUNCT NOUN PUNCT PUNCT NOUN PUNCT PUNCT', ' PUNCT PUNCT PUNCT NOUN NOUN PUNCT PUNCT NOUN PUNCT PUNCT PUNCT PUNCT', ' PUNCT PUNCT PUNCT NOUN NOUN PUNCT PUNCT PUNCT NOUN NOUN NOUN PUNCT PUNCT PUNCT PUNCT']\n",
      "[None, ' PUNCT', None, ' PUNCT PUNCT ', None, 'PUNCT PUNCT', None]\n",
      "----------------------\n",
      "[\"* '''Given''' the problems, I do not think we should go.\", \"* We have many helpers, '''including''' John.\", \"* '''According''' to the map, we are here.\", \"* He went to hospital '''following''' the fight.\"]\n",
      "[' PUNCT PUNCT VERB VERB PUNCT PUNCT DET NOUN PUNCT PRON AUX PART VERB PRON AUX VERB PUNCT', ' PUNCT PRON VERB ADJ NOUN PUNCT PUNCT VERB VERB PUNCT PUNCT NOUN PUNCT', ' PUNCT PUNCT VERB VERB PUNCT PUNCT ADP DET NOUN PUNCT PRON AUX ADV PUNCT', ' PUNCT PRON VERB ADP NOUN PUNCT PUNCT VERB PUNCT PUNCT DET NOUN PUNCT']\n",
      "[None, ' PUNCT PUNCT', None, ' VERB PUNCT PUNCT ', None, 'NOUN PUNCT', None]\n",
      "----------------------\n",
      "[\"* Edward Robert Harrison 2000. ''Cosmology'' 2nd ed. Cambridge University Press.\", '* {{cite book| author = University Charles W Misner, Kip S. Thorne, John Archibald Wheeler| title = Gravitation| url = https://archive.org/details/gravitation00misn| year = 1973| publisher = W.H. Freeman| location = San Francisco| isbn = 978-0-7167-0344-0| pages = [https://archive.org/details/gravitation00misn/page/n728 703]–816| author2 = University Charles W Misner, Kip S. Thorne, John Archibald Wheeler }} The classic text for a generation.', '* {{cite book |author= Rindler W. |year= 1977 |title= Essential relativity: special, general, and cosmological |publisher= Springer Verlag |location= New York |isbn= 978-0-387-10090-6 |pages= 193–244}}', '* {{cite book| last = Weinberg| first = Steven| title = The first three minutes: a modern view of the origin of the Universe| edition = 2nd updated| year = 1993| publisher = Basic Books| location = New York| isbn = 978-0-465-02437-7| oclc = 28746057 }} For lay readers.', \"* -------- 2008. ''Cosmology''. Oxford University Press. Challenging.\"]\n",
      "[' PUNCT NOUN NOUN NOUN NUM PUNCT PUNCT NOUN PUNCT NOUN NOUN PUNCT NOUN NOUN NOUN PUNCT', ' PUNCT PUNCT PUNCT VERB NOUN NOUN NOUN NOUN NOUN NOUN NOUN PUNCT NOUN NOUN NOUN PUNCT NOUN NOUN NOUN NOUN NOUN NOUN NOUN NOUN NOUN NOUN NOUN NUM NOUN NOUN NOUN NOUN NOUN NOUN NOUN NOUN NOUN NOUN NUM PUNCT NUM PUNCT NUM PUNCT NUM PUNCT NOUN NOUN NOUN VERB DET NOUN PUNCT NOUN NOUN NOUN NOUN PUNCT NOUN NOUN NOUN PUNCT NOUN NOUN NOUN PUNCT PUNCT DET ADJ NOUN ADP DET NOUN PUNCT', ' PUNCT PUNCT PUNCT ADJ NOUN VERB NOUN NOUN NOUN NUM VERB ADJ NOUN PUNCT ADJ PUNCT ADJ PUNCT CCONJ NOUN NOUN NOUN NOUN NOUN NOUN NOUN ADV NUM PUNCT NUM PUNCT NUM NUM NUM SYM NUM ADP NUM PUNCT PUNCT', ' PUNCT PUNCT PUNCT VERB NOUN ADJ NOUN NOUN ADV VERB NOUN NOUN NOUN DET ADJ NUM NOUN PUNCT DET ADJ NOUN ADP DET NOUN ADP DET NOUN NOUN NOUN ADJ NOUN NOUN VERB NUM NOUN NOUN NOUN NOUN NOUN PUNCT NOUN NOUN NOUN NOUN NUM SYM NUM PUNCT NUM PUNCT NUM PUNCT NUM NOUN NUM NUM PUNCT PUNCT ADP ADJ NOUN PUNCT', ' PUNCT PUNCT NUM PUNCT PUNCT NOUN PUNCT PUNCT NOUN NOUN NOUN PUNCT NOUN PUNCT']\n",
      "[None, ' PUNCT', None, 'UN', None, ' N', None, 'UN', None, ' NOUN PUNCT', None, ' NOUN NOUN NOUN ', None, 'PUNCT', None]\n",
      "----------------------\n",
      "['* [[Aquaculture]]', '* [[Bee keeping]]', '* [[Animal husbandry]]', '* [[Fertilizer]]s', '* [[Crop rotation]]', '* [[Urban farming]]', '* [[Breeding]]', '* [[Agricultural fencing|Fencing]]', '* [[Ranching]]', '* [[Plantation]]', '* [[Crop protection]]']\n",
      "[' PUNCT NOUN', ' PUNCT NOUN VERB', ' PUNCT NOUN NOUN', ' PUNCT NOUN', ' PUNCT NOUN NOUN', ' PUNCT ADJ NOUN', ' PUNCT VERB', ' PUNCT NOUN', ' PUNCT VERB', ' PUNCT NOUN', ' PUNCT NOUN NOUN']\n",
      "[None, ' PUNCT ', None]\n",
      "----------------------\n",
      "['* [[Microsoft Azure|Azure]]', '* [[Bing (search engine)|Bing]]', '* [[LinkedIn]]', '* [[Microsoft Developer Network|MSDN]]', '* [[Office 365]]', '* [[OneDrive]]', '* [[Outlook.com]]', '* [[Microsoft TechNet|TechNet]]', '* [[Microsoft Wallet|Wallet]]', '* [[Microsoft Store]]', '* [[Windows Update]]', '* [[Xbox Live]]']\n",
      "[' PUNCT NOUN', ' PUNCT NOUN', ' PUNCT NOUN', ' PUNCT NOUN', ' PUNCT NOUN NUM', ' PUNCT VERB', ' PUNCT NOUN', ' PUNCT NOUN', ' PUNCT NOUN', ' PUNCT NOUN NOUN', ' PUNCT NOUN NOUN', ' PUNCT NOUN NOUN']\n",
      "[None, ' PUNCT ', None]\n",
      "----------------------\n",
      "['* [[1940]] – [[Retreat]] at [[Dunkirk]]', '* 1941; Attack on [[Joint Base Pearl Harbor–Hickam|Pearl Harbor]], which followed by U.S join the war then.', '* [[1944]] – [[Normandy invasion]]', '* [[1945]] (August 6 and 9) – first use of the [[atomic bomb]] in warfare', '* [[1945]] – [[World War II]] ends', '* [[1945]] – Start of the [[Cold War]]', '* [[1945]]-[[1946]] – [[Nuremberg Trials]]', '* [[1946]] – [[Baby boomer|baby boom]] begins in the [[United States]]', '* [[1947]] – [[Independence]] for [[India]] and other [[colony|colonies]]', '* [[1947]]-[[1949]] – [[First Kashmir War|Indo-Pakistani War]]', '* [[1948]]-[[1949]] – [[Arab-Israeli War]]', '* [[1949]] – [[Communism|Communists]] take power in [[China]]']\n",
      "[' PUNCT NUM PUNCT NOUN ADP NOUN', ' PUNCT NUM PUNCT NOUN ADP NOUN NOUN PUNCT PRON VERB ADP NOUN VERB DET NOUN ADV PUNCT', ' PUNCT NUM PUNCT ADJ NOUN', ' PUNCT NUM NOUN NUM CCONJ NUM PUNCT ADJ NOUN ADP DET ADJ NOUN ADP NOUN', ' PUNCT NUM PUNCT NOUN NOUN NOUN VERB', ' PUNCT NUM PUNCT NOUN ADP DET NOUN NOUN', ' PUNCT NUM SYM NUM PUNCT NOUN NOUN', ' PUNCT NUM PUNCT NOUN NOUN VERB ADP DET NOUN NOUN', ' PUNCT NUM PUNCT NOUN ADP NOUN CCONJ ADJ NOUN', ' PUNCT NUM SYM NUM PUNCT NOUN PUNCT NOUN NOUN', ' PUNCT NUM SYM NUM PUNCT NOUN PUNCT ADJ NOUN', ' PUNCT NUM PUNCT NOUN VERB NOUN ADP NOUN']\n",
      "[None, ' PUNCT NUM ', None, 'PUNCT ', None, ' NOUN', None]\n",
      "----------------------\n",
      "['* [[aerospace engineering|Aerospace engineers]] design space vehicles or airplanes.', '* [[biomedical engineering|Biomedical engineers]] design and work with medical equipment.', '* [[chemical engineering|Chemical engineers]] use chemicals to make products like drugs and medicines or fertilizers for crops.', '* [[civil engineering|Civil engineers]] work on roads, bridges, buildings and other public structures.', '* [[computer engineering|Computer engineers]] design or improve computers (including [[embedded system]]s and their parts).', '* [[electrical engineering|Electrical engineers]] work with [[electricity]] and design electrical equipment, from small things like radios and computers to large things like [[electric power transmission]] systems.', '* [[electronic engineering|Electronic engineers]] work with [[electronics]], which are used to build computer parts and electrical equipment.', '* [[environment|Environmental engineers]] design and implement ways to remediate and restore the environment.', '* [[manufacturing engineering|Manufacturing engineers]] design and improve the machines and [[assembly line]]<nowiki/>s that make things.  They work with robots and [[automation]] and ways to help companies work faster and better with fewer mistakes.', '* [[mechanical engineering|Mechanical engineers]] design machines or things that move, like cars and trains. A mechanical engineer also might help design electricity generating stations, oil refineries, and factories.', '* [[mechatronics engineering|Mechatronics engineers]]\\xa0work in multiple\\xa0fields of engineering that include mechanical engineering,\\xa0electrical engineering,\\xa0[[telecommunication]]s engineering,\\xa0[[control engineering]] and\\xa0computer engineering.', '* [[Marine Engineering|Marine Engineers]] design, build, test and repair boats, ships, underwater craft, focusing primarily on their internal systems.', '* [[nanotechnology|Nanotechnology engineers]] study very small things, like strings of atoms and how they are put together.', '* [[nuclear engineering|Nuclear engineers]] design and build nuclear plants. They also study the characteristic behaviors of certain radioactive or unstable elements.', '* [[Structural engineering|Structural engineers]] are dealing with [[design]] and [[analysis]] of [[building]]s and large non-building [[structure]]s to withstand both the [[gravity]] and [[wind]] loads as well as [[natural disaster]]s.', '* [[software engineering|Software engineers]] design and write programs for computers.', '* [[systems engineering|Systems engineers]] look at how complicated things work and try to make them faster and smarter.', \"*'''Ceramic engineering''' is the science and technology of creating objects from inorganic, non-metallic materials \"]\n",
      "[' PUNCT NOUN VERB NOUN NOUN NOUN CCONJ NOUN PUNCT', ' PUNCT ADJ NOUN VERB CCONJ NOUN ADP ADJ NOUN PUNCT', ' PUNCT NOUN NOUN VERB NOUN PART VERB NOUN ADP NOUN CCONJ NOUN CCONJ NOUN ADP NOUN PUNCT', ' PUNCT ADJ NOUN VERB ADP NOUN PUNCT NOUN PUNCT NOUN CCONJ ADJ ADJ NOUN PUNCT', ' PUNCT NOUN NOUN VERB CCONJ VERB NOUN VERB VERB NOUN CCONJ PRON NOUN PUNCT', ' PUNCT ADJ NOUN VERB ADP NOUN CCONJ VERB ADJ NOUN PUNCT ADP ADJ NOUN ADP NOUN CCONJ NOUN ADP ADJ NOUN ADP ADJ NOUN NOUN NOUN PUNCT', ' PUNCT ADJ NOUN VERB ADP NOUN PUNCT PRON AUX VERB PART VERB NOUN NOUN CCONJ ADJ NOUN PUNCT', ' PUNCT ADJ NOUN VERB CCONJ VERB NOUN PART VERB CCONJ VERB DET NOUN PUNCT', ' PUNCT NOUN NOUN VERB CCONJ VERB DET NOUN CCONJ NOUN NOUN X PRON PRON VERB NOUN PUNCT SPACE PRON VERB ADP NOUN CCONJ NOUN CCONJ NOUN PART VERB NOUN VERB ADV CCONJ ADV ADP ADJ NOUN PUNCT', ' PUNCT ADJ NOUN NOUN NOUN CCONJ NOUN PRON VERB PUNCT ADP NOUN CCONJ NOUN PUNCT DET ADJ NOUN ADV AUX VERB VERB NOUN NOUN NOUN PUNCT NOUN NOUN PUNCT CCONJ NOUN PUNCT', ' PUNCT NOUN NOUN SPACE VERB ADP ADJ SPACE NOUN ADP NOUN PRON VERB ADJ NOUN PUNCT SPACE ADJ NOUN PUNCT SPACE NOUN NOUN PUNCT SPACE NOUN NOUN CCONJ SPACE NOUN NOUN PUNCT', ' PUNCT NOUN NOUN NOUN PUNCT VERB PUNCT NOUN CCONJ NOUN NOUN PUNCT NOUN PUNCT ADJ NOUN PUNCT VERB ADV ADP PRON ADJ NOUN PUNCT', ' PUNCT NOUN NOUN VERB ADV ADJ NOUN PUNCT ADP NOUN ADP NOUN CCONJ SCONJ PRON AUX VERB ADV PUNCT', ' PUNCT ADJ NOUN VERB CCONJ VERB ADJ NOUN PUNCT PRON ADV VERB DET ADJ NOUN ADP ADJ ADJ CCONJ ADJ NOUN PUNCT', ' PUNCT ADJ NOUN AUX VERB ADP NOUN CCONJ NOUN ADP NOUN CCONJ ADJ ADJ ADJ ADJ NOUN PART VERB CCONJ DET NOUN CCONJ NOUN NOUN ADV ADV ADP ADJ NOUN PUNCT', ' PUNCT NOUN VERB NOUN CCONJ VERB NOUN ADP NOUN PUNCT', ' PUNCT NOUN NOUN VERB ADP SCONJ ADJ NOUN VERB CCONJ VERB PART VERB PRON ADV CCONJ ADJ PUNCT', ' PUNCT PUNCT ADJ ADJ NOUN PUNCT PUNCT AUX DET NOUN CCONJ NOUN ADP VERB NOUN ADP ADJ PUNCT ADJ ADJ ADJ NOUN']\n",
      "[None, ' PUNCT', None, ' NOUN ', None, ' CCONJ ', None, 'N ', None, 'PUNCT', None]\n",
      "----------------------\n",
      "['* {{flag|Denmark}}', '* {{flag|Ireland}}', '*{{flag|United Kingdom}}']\n",
      "[' PUNCT PUNCT PUNCT NOUN PUNCT PUNCT', ' PUNCT PUNCT PUNCT NOUN PUNCT PUNCT', ' PUNCT PUNCT PUNCT NOUN NOUN PUNCT PUNCT']\n",
      "[None, ' PUNCT PUNCT PUNCT NOUN ', None, 'PUNCT PUNCT', None]\n",
      "----------------------\n"
     ]
    }
   ],
   "source": [
    "  \n",
    "for number in chosen:\n",
    "    line = open('simplewiki-20211120-lists-1k.tsv').readlines()[number]\n",
    "    page, code = line.split('\\t')\n",
    "    code = code.replace('\\\\n', '\\n').splitlines()\n",
    "    print(code)\n",
    "    code = cleaning(code)\n",
    "    code = convert_pos(code)\n",
    "    print(code)\n",
    "    templater = templater3.Templater(min_block_size=2)\n",
    "    for individual in code:\n",
    "        templater.learn(individual)\n",
    "    print(templater._template)\n",
    "    print('----------------------')\n",
    "\n"
   ]
  },
  {
   "cell_type": "code",
   "execution_count": null,
   "id": "f8c6bd4a-c17a-408a-8029-88b31b359fb2",
   "metadata": {},
   "outputs": [],
   "source": []
  }
 ],
 "metadata": {
  "kernelspec": {
   "display_name": "Python (templater)",
   "language": "python",
   "name": "templater"
  },
  "language_info": {
   "codemirror_mode": {
    "name": "ipython",
    "version": 3
   },
   "file_extension": ".py",
   "mimetype": "text/x-python",
   "name": "python",
   "nbconvert_exporter": "python",
   "pygments_lexer": "ipython3",
   "version": "3.8.16"
  }
 },
 "nbformat": 4,
 "nbformat_minor": 5
}
