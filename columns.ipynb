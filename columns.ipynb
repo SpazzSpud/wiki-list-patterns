{
 "cells": [
  {
   "cell_type": "code",
   "execution_count": 1,
   "id": "a99b715f-85b9-4171-bedd-0b48326fbf51",
   "metadata": {
    "tags": []
   },
   "outputs": [],
   "source": [
    "import templater3"
   ]
  },
  {
   "cell_type": "code",
   "execution_count": 12,
   "id": "11cb4dcf-df6f-468b-a421-9f3da5a253e7",
   "metadata": {
    "tags": []
   },
   "outputs": [
    {
     "data": {
      "text/plain": [
       "[None, '* [[April ', None, ']] - ', None]"
      ]
     },
     "execution_count": 12,
     "metadata": {},
     "output_type": "execute_result"
    }
   ],
   "source": [
    "line = open('simplewiki-20211120-lists-1k.tsv').readlines()[0]\n",
    "page, code = line.split('\\t')\n",
    "\n",
    "template = templater3.Templater(min_block_size=2)\n",
    "for line in code.replace('\\\\n', '\\n').splitlines():\n",
    "    template.learn(line)\n",
    "template._template"
   ]
  },
  {
   "cell_type": "code",
   "execution_count": 17,
   "id": "fd5a5598-4346-4997-accb-8c120b8c5f95",
   "metadata": {
    "tags": []
   },
   "outputs": [
    {
     "name": "stdout",
     "output_type": "stream",
     "text": [
      "{''}\n",
      "{'12', '6', '18', '19', '13', '5', '27', '1', '4', '30', '15', '21', '9', '8', '24', '23', '2', '16', '20', '28', '7', '14', '26', '22', '25', '29', '17'}\n",
      "{'[[Father Damien]] Day ([[Hawaii]])', 'Independence Day ([[Senegal]])', 'Union Day ([[Tanzania]])', 'Flag Day ([[American Samoa]])', \"[[Saint George]]'s Day, celebrating the patron saint of several countries, regions and cities (including [[England]] and [[Catalonia]])\", 'Showa Day ([[Japan]]), birthday of Emperor [[Hirohito]], who died in [[1989]]', 'Independence Day ([[Sierra Leone]] and [[Togo]])', 'Kartini Day ([[Indonesia]])', 'National [[Tree]] Planting Day ([[Kenya]])', 'Democracy Day ([[Nepal]])', 'World [[Malaria]] Day', '[[Jackie Robinson]] Day ([[Major League Baseball]])', 'Army Day ([[North Korea]])', '[[Birthday]] of Queen [[Margrethe II of Denmark]]', 'Ambedkar Tayanti ([[India]])', 'National Day ([[Sardinia]])', \"First Day of [[Ridran]] ([[Baha'i]] faith)\", 'Peace Day ([[Angola]])', 'National Heroes Day ([[Barbados]])', 'Genocide Day ([[Armenia]])', '[[Republic]] Day (the [[Gambia]])', \"[[Cosmonaut]]s' Day ([[Russia]]), marking the day of [[Yuri Gagarin]]'s space flight\", 'Liberation Day ([[Italy]])', 'World [[DNA]] Day', 'Independence Day ([[Zimbabwe]])', '[[Southeast Asia]]n [[New Year]] festivals, including [[Songkran]]', 'International Day for Landmine Awareness and Assistance', 'Day of Maternity and Beauty ([[Armenia]])', 'World [[Autism]] Awareness Day', '[[Selena]] Day ([[Texas]])', 'Grounation Day ([[Rastafari movement]])', '[[Walpurgis Night]] (Central and Northern [[Europe]])', \"Women's Day ([[Gabon]])\", 'Emancipation Day ([[Washington, DC]])', 'World [[Hemophilia]] Day', '[[Georgian language]] Day', 'Freedom Day ([[Portugal]])', 'Flag Day ([[Swaziland]], [[Faroe Islands]])', 'Dutch-American Friendship Day', 'Discovery Day ([[Brazil]])', \"[[April Fools' Day]]\", '[[Thailand|Thai]] Heritage and [[wikt:conservation|Conservation]] Day', 'San Jacinto Day ([[Texas]])', 'Confederate Memorial Day ([[Texas]], [[Florida]])', 'Genocide Memorial Day ([[Rwanda]])', \"[[Buddha]]'s Birthday ([[Buddhism]])\", 'Day of the [[Finnish language]]', \"[[Kim Il-Sung]]'s [[Birthday]] ([[North Korea]])\", 'Islamic Republic Day ([[Iran]])', '[[Cambodia]]n New Year', 'World [[Book]] Day', 'Flag Day in [[Sweden]] (birthday of King [[Carl XVI Gustaf of Sweden]])', 'National Day of [[Syria]]', \"International Children's Book Day\", 'Songkan ([[Laos]]), local New Year celebration', \"King's Day ([[Netherlands]]) from [[2014]], birthday of [[Willem-Alexander of the Netherlands]]\", \"[[Thomas Jefferson]]'s [[Birthday]] ([[United States]])\", \"National Sovereignty and [[Child]]ren's Day ([[Turkey]])\", 'Youth Day ([[Angola]])', '[[Tax]] Day ([[United States]])', 'International Day of [[Monument]]s and Sites', 'Chakri Day ([[Thailand]])', 'End of [[Tax]] Year ([[United Kingdom]])', '4/20 in [[Cannabis]] [[Culture]]', '[[Earth Day]]', 'Invention Day ([[Japan]])', '[[Australia]] and [[New Zealand]] celebrate [[ANZAC Day]]. [http://www.awm.gov.au/dawn/spirit/meaning.asp ANZAC] {{Webarchive|url=https://web.archive.org/web/20060615053606/http://www.awm.gov.au/dawn/spirit/meaning.asp |date=2006-06-15 }} means Australian and New Zealand Army Corps, and began in 1915.', \"Martyrs' Day ([[Tunisia]])\", 'Day of National Unity ([[Georgia (country)|Georgia]])', 'World [[Health]] Day', 'Tartan Day ([[Canada]] and [[United States]])', \"Patriots' Day ([[Massachusetts]], [[Maine]], [[Wisconsin]])\", 'Pan-American Day', 'Freedom Day ([[South Africa]])', \"Former Queen's Day Holiday in the [[Netherlands]] (changed to King's Day, [[April 27]] in [[2014]]), was the birthday of former Queen [[Juliana of the Netherlands]]\", 'World [[Voice]] Day', 'Malvinas Day ([[Argentina]])', '[[Birthday]] of King [[Mswati III]] of [[Swaziland]]', '[[John Muir]] Day ([[California]])', '[[Bicycle]] Day', \"Women's Day ([[Mozambique]])\", 'International [[Jazz]] Day', 'International [[Dance]] Day', 'World [[Tapir]] Day', 'Workers Memorial Day'}\n"
     ]
    }
   ],
   "source": [
    "parsed = [template.parse(line) for line in code.replace('\\\\n', '\\n').splitlines()]\n",
    "columns = list(zip(*parsed))\n",
    "for column in columns:\n",
    "    print(set(column))"
   ]
  },
  {
   "cell_type": "code",
   "execution_count": 23,
   "id": "25e2236a-dbb3-431c-8209-cdca36d1bc69",
   "metadata": {
    "tags": []
   },
   "outputs": [
    {
     "data": {
      "text/plain": [
       "['Islamic Republic Day ([[Iran]])',\n",
       " 'Malvinas Day ([[Argentina]])',\n",
       " 'Independence Day ([[Senegal]])',\n",
       " 'Peace Day ([[Angola]])',\n",
       " 'End of [[Tax]] Year ([[United Kingdom]])',\n",
       " 'Tartan Day ([[Canada]] and [[United States]])',\n",
       " 'Chakri Day ([[Thailand]])',\n",
       " 'Day of Maternity and Beauty ([[Armenia]])',\n",
       " 'Genocide Memorial Day ([[Rwanda]])',\n",
       " \"Women's Day ([[Mozambique]])\",\n",
       " \"[[Buddha]]'s Birthday ([[Buddhism]])\",\n",
       " \"Martyrs' Day ([[Tunisia]])\",\n",
       " 'Day of National Unity ([[Georgia (country)|Georgia]])',\n",
       " \"[[Thomas Jefferson]]'s [[Birthday]] ([[United States]])\",\n",
       " 'Youth Day ([[Angola]])',\n",
       " 'Ambedkar Tayanti ([[India]])',\n",
       " '[[Tax]] Day ([[United States]])',\n",
       " \"[[Kim Il-Sung]]'s [[Birthday]] ([[North Korea]])\",\n",
       " '[[Father Damien]] Day ([[Hawaii]])',\n",
       " '[[Jackie Robinson]] Day ([[Major League Baseball]])',\n",
       " 'Emancipation Day ([[Washington, DC]])',\n",
       " '[[Selena]] Day ([[Texas]])',\n",
       " 'Flag Day ([[American Samoa]])',\n",
       " \"Women's Day ([[Gabon]])\",\n",
       " 'Independence Day ([[Zimbabwe]])',\n",
       " 'Invention Day ([[Japan]])',\n",
       " \"Patriots' Day ([[Massachusetts]], [[Maine]], [[Wisconsin]])\",\n",
       " '[[John Muir]] Day ([[California]])',\n",
       " 'San Jacinto Day ([[Texas]])',\n",
       " 'Kartini Day ([[Indonesia]])',\n",
       " 'National [[Tree]] Planting Day ([[Kenya]])',\n",
       " \"First Day of [[Ridran]] ([[Baha'i]] faith)\",\n",
       " 'Grounation Day ([[Rastafari movement]])',\n",
       " 'Discovery Day ([[Brazil]])',\n",
       " \"[[Saint George]]'s Day, celebrating the patron saint of several countries, regions and cities (including [[England]] and [[Catalonia]])\",\n",
       " \"National Sovereignty and [[Child]]ren's Day ([[Turkey]])\",\n",
       " 'Democracy Day ([[Nepal]])',\n",
       " 'Genocide Day ([[Armenia]])',\n",
       " '[[Republic]] Day (the [[Gambia]])',\n",
       " 'Flag Day ([[Swaziland]], [[Faroe Islands]])',\n",
       " 'Freedom Day ([[Portugal]])',\n",
       " 'Liberation Day ([[Italy]])',\n",
       " 'Army Day ([[North Korea]])',\n",
       " 'Union Day ([[Tanzania]])',\n",
       " 'Confederate Memorial Day ([[Texas]], [[Florida]])',\n",
       " 'Independence Day ([[Sierra Leone]] and [[Togo]])',\n",
       " 'Freedom Day ([[South Africa]])',\n",
       " 'National Day ([[Sardinia]])',\n",
       " 'National Heroes Day ([[Barbados]])',\n",
       " 'Flag Day in [[Sweden]] (birthday of King [[Carl XVI Gustaf of Sweden]])',\n",
       " '[[Walpurgis Night]] (Central and Northern [[Europe]])']"
      ]
     },
     "metadata": {},
     "output_type": "display_data"
    },
    {
     "data": {
      "text/plain": [
       "[\"[[April Fools' Day]]\",\n",
       " \"International Children's Book Day\",\n",
       " '[[Thailand|Thai]] Heritage and [[wikt:conservation|Conservation]] Day',\n",
       " 'World [[Autism]] Awareness Day',\n",
       " 'International Day for Landmine Awareness and Assistance',\n",
       " 'World [[Health]] Day',\n",
       " 'Day of the [[Finnish language]]',\n",
       " \"[[Cosmonaut]]s' Day ([[Russia]]), marking the day of [[Yuri Gagarin]]'s space flight\",\n",
       " 'Songkan ([[Laos]]), local New Year celebration',\n",
       " '[[Cambodia]]n New Year',\n",
       " '[[Southeast Asia]]n [[New Year]] festivals, including [[Songkran]]',\n",
       " '[[Georgian language]] Day',\n",
       " 'Pan-American Day',\n",
       " '[[Birthday]] of Queen [[Margrethe II of Denmark]]',\n",
       " 'World [[Voice]] Day',\n",
       " 'National Day of [[Syria]]',\n",
       " 'World [[Hemophilia]] Day',\n",
       " 'International Day of [[Monument]]s and Sites',\n",
       " '[[Bicycle]] Day',\n",
       " 'Dutch-American Friendship Day',\n",
       " '[[Birthday]] of King [[Mswati III]] of [[Swaziland]]',\n",
       " '4/20 in [[Cannabis]] [[Culture]]',\n",
       " '[[Earth Day]]',\n",
       " 'World [[Book]] Day',\n",
       " '[[Australia]] and [[New Zealand]] celebrate [[ANZAC Day]]. [http://www.awm.gov.au/dawn/spirit/meaning.asp ANZAC] {{Webarchive|url=https://web.archive.org/web/20060615053606/http://www.awm.gov.au/dawn/spirit/meaning.asp |date=2006-06-15 }} means Australian and New Zealand Army Corps, and began in 1915.',\n",
       " 'World [[DNA]] Day',\n",
       " 'World [[Malaria]] Day',\n",
       " 'World [[Tapir]] Day',\n",
       " \"King's Day ([[Netherlands]]) from [[2014]], birthday of [[Willem-Alexander of the Netherlands]]\",\n",
       " 'Workers Memorial Day',\n",
       " 'Showa Day ([[Japan]]), birthday of Emperor [[Hirohito]], who died in [[1989]]',\n",
       " 'International [[Dance]] Day',\n",
       " \"Former Queen's Day Holiday in the [[Netherlands]] (changed to King's Day, [[April 27]] in [[2014]]), was the birthday of former Queen [[Juliana of the Netherlands]]\",\n",
       " 'International [[Jazz]] Day']"
      ]
     },
     "metadata": {},
     "output_type": "display_data"
    }
   ],
   "source": [
    "func = lambda c: c.endswith(')')\n",
    "\n",
    "def split_set(cells, func):\n",
    "    c1 = [c for c in cells if func(c)]\n",
    "    c2 = [c for c in cells if not func(c)]\n",
    "    return c1, c2\n",
    "\n",
    "c1, c2 = split_set(columns[-1], func)\n",
    "display(c1)\n",
    "display(c2)"
   ]
  },
  {
   "cell_type": "code",
   "execution_count": 25,
   "id": "5c5f927d-7386-4bf4-9cd3-6a160a1324e3",
   "metadata": {
    "tags": []
   },
   "outputs": [
    {
     "data": {
      "text/plain": [
       "[None, '[[', None, ']]', None]"
      ]
     },
     "execution_count": 25,
     "metadata": {},
     "output_type": "execute_result"
    }
   ],
   "source": [
    "c1template = templater3.Templater(min_block_size=2)\n",
    "for line in c1:\n",
    "    c1template.learn(line)\n",
    "c1template._template"
   ]
  },
  {
   "cell_type": "code",
   "execution_count": 28,
   "id": "cb9b76c6-aec2-46e6-97fd-3ec1d2c37a27",
   "metadata": {
    "tags": []
   },
   "outputs": [
    {
     "data": {
      "text/plain": [
       "[None]"
      ]
     },
     "execution_count": 28,
     "metadata": {},
     "output_type": "execute_result"
    }
   ],
   "source": [
    "c2template = templater3.Templater(min_block_size=2)\n",
    "for line in c2:\n",
    "    c2template.learn(line)\n",
    "c2template._template"
   ]
  },
  {
   "cell_type": "code",
   "execution_count": null,
   "id": "72365b8d-f8d9-4f3f-86af-2aae8ade65c3",
   "metadata": {},
   "outputs": [],
   "source": []
  }
 ],
 "metadata": {
  "kernelspec": {
   "display_name": "Python (templater)",
   "language": "python",
   "name": "templater"
  },
  "language_info": {
   "codemirror_mode": {
    "name": "ipython",
    "version": 3
   },
   "file_extension": ".py",
   "mimetype": "text/x-python",
   "name": "python",
   "nbconvert_exporter": "python",
   "pygments_lexer": "ipython3",
   "version": "3.8.16"
  }
 },
 "nbformat": 4,
 "nbformat_minor": 5
}
